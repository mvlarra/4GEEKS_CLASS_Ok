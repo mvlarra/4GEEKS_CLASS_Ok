{
 "cells": [
  {
   "cell_type": "markdown",
   "metadata": {},
   "source": [
    "# Class 11: API"
   ]
  },
  {
   "cell_type": "code",
   "execution_count": 1,
   "metadata": {},
   "outputs": [],
   "source": [
    "# Paso 0: Levanto las librerias que necesito\n",
    "import pandas as pd\n",
    "import numpy as np \n",
    "import requests # Nunca se usa con alias.\n",
    "import json\n"
   ]
  },
  {
   "cell_type": "code",
   "execution_count": 2,
   "metadata": {},
   "outputs": [],
   "source": [
    "# Esta pagina nos permite probar una api gratis: https://open-meteo.com Es una pagina que nos da el forecast del tiempo y datos asociados a el. \n",
    "# # Copiamos en la terminal, el codigo que aparece en la pagina principal:\n",
    "#       curl \"https://api.open-meteo.com/v1/forecast?latitude=52.52&longitude=13.41&current=temperature_2m,wind_speed_10m&hourly=temperature_2m,relative_humidity_2m,wind_speed_10m\"\n",
    "# En esa url la primer parte es la direccion y la segunda parte son los argumentos (temperatura que se da por la latitud y longitud de la ciuidad)\n",
    "# El comando curl en bash es para comunicarnos con la API, se comunica a travez de la direccion (url), y los argumentos. Como se ve en el ejemplo de arriba.\n",
    "# Lo bueno del comando curl es que es muy rapido. el tema es el formato.\n",
    "# Volvemos a la pagina y vamos a la seccion \"Read de docs\", para ver que info tienen disponibles.\n",
    "# Este sitio permite 10000 calls gratis al mes, (esto es el comando curl. Cada vez que se ejecuta cuenta como una llamada.)\n",
    "\n",
    "# Documento Json: Es un documento muy parecido a un diccionario de python. La respuesta que nos trae el comando curl, tiene este formato. \n",
    "# La info que nos da una API debe ser en un lenguaje universal, y este mismo es el formato JSON. \n",
    "# O sea, que el formato JSON es el formato de respuesta que usan en general las API.\n",
    "# Para poder trabajar la info en JSON, debemos importar la libreria json"
   ]
  },
  {
   "cell_type": "code",
   "execution_count": 3,
   "metadata": {},
   "outputs": [
    {
     "name": "stdout",
     "output_type": "stream",
     "text": [
      "{'name': 'Valentina', 'lastname': 'Larranaga', 'siblings': 4}\n"
     ]
    }
   ],
   "source": [
    "# Practicaremos con un diccionario de tres datos: Name, Lastname, Siblings (significa hermanos en ingles)\n",
    "mi_diccionario = { \"name\": \"Valentina\",\n",
    "                    \"lastname\": \"Larranaga\", \n",
    "                    \"siblings\": 4}\n",
    "print (mi_diccionario)"
   ]
  },
  {
   "cell_type": "code",
   "execution_count": 4,
   "metadata": {},
   "outputs": [
    {
     "data": {
      "text/plain": [
       "'{\"name\": \"Valentina\", \"lastname\": \"Larranaga\", \"siblings\": 4}'"
      ]
     },
     "execution_count": 4,
     "metadata": {},
     "output_type": "execute_result"
    }
   ],
   "source": [
    "# PAra convertir este diccionario en un JSON, debemos escribir:\n",
    "json.dumps(mi_diccionario)\n"
   ]
  },
  {
   "cell_type": "markdown",
   "metadata": {},
   "source": [
    "# ME FUI MUY TEMPRANO CON BENJA."
   ]
  }
 ],
 "metadata": {
  "kernelspec": {
   "display_name": ".venv",
   "language": "python",
   "name": "python3"
  },
  "language_info": {
   "codemirror_mode": {
    "name": "ipython",
    "version": 3
   },
   "file_extension": ".py",
   "mimetype": "text/x-python",
   "name": "python",
   "nbconvert_exporter": "python",
   "pygments_lexer": "ipython3",
   "version": "3.12.1"
  }
 },
 "nbformat": 4,
 "nbformat_minor": 2
}
