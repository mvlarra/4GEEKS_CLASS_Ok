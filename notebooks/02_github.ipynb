{
 "cells": [
  {
   "cell_type": "code",
   "execution_count": 1,
   "metadata": {},
   "outputs": [
    {
     "data": {
      "text/plain": [
       "(2, 3, 4)"
      ]
     },
     "execution_count": 1,
     "metadata": {},
     "output_type": "execute_result"
    }
   ],
   "source": [
    "# Vemos como se debe escribe una TUPLA. La misma se escribe con parentesis ()\n",
    "# Una tupla es una coleccion de datos homogeneos, e inmutables (quiere decir que una vez que fueron cradas, sus valores no pueden modificarse).\n",
    "# Una tupla es diferente a una lista\n",
    "mitupla = (2,3,4)\n",
    "mitupla"
   ]
  },
  {
   "cell_type": "code",
   "execution_count": 2,
   "metadata": {},
   "outputs": [
    {
     "data": {
      "text/plain": [
       "3"
      ]
     },
     "execution_count": 2,
     "metadata": {},
     "output_type": "execute_result"
    }
   ],
   "source": [
    "# Vamos a llamar al segundo elemento de mi tupla\n",
    "mitupla[1]"
   ]
  },
  {
   "cell_type": "code",
   "execution_count": 6,
   "metadata": {},
   "outputs": [
    {
     "ename": "TypeError",
     "evalue": "'tuple' object does not support item assignment",
     "output_type": "error",
     "traceback": [
      "\u001b[0;31m---------------------------------------------------------------------------\u001b[0m",
      "\u001b[0;31mTypeError\u001b[0m                                 Traceback (most recent call last)",
      "Cell \u001b[0;32mIn[6], line 3\u001b[0m\n\u001b[1;32m      1\u001b[0m \u001b[38;5;66;03m# Para darnos cuenta que es inmutable, trataremos de cambiar el ultimo valor de la tupla, \u001b[39;00m\n\u001b[1;32m      2\u001b[0m \u001b[38;5;66;03m# 4 en mi ejemplo, por 7. Veremos que esto nos genera un error: 'tuple' object does not support item assignment\u001b[39;00m\n\u001b[0;32m----> 3\u001b[0m \u001b[43mmitupla\u001b[49m\u001b[43m[\u001b[49m\u001b[38;5;241;43m2\u001b[39;49m\u001b[43m]\u001b[49m \u001b[38;5;241m=\u001b[39m \u001b[38;5;241m7\u001b[39m\n\u001b[1;32m      4\u001b[0m \u001b[38;5;66;03m# Esta caracteristica es muy util, ya que nos permite crear elementos que sean seguros.\u001b[39;00m\n\u001b[1;32m      5\u001b[0m \u001b[38;5;66;03m# Mas adelante veremos que python muchas funciones devuelven tuplas, \u001b[39;00m\n\u001b[1;32m      6\u001b[0m \u001b[38;5;66;03m# justamente porque la intencion es poderlo leer pero no editarlo.\u001b[39;00m\n",
      "\u001b[0;31mTypeError\u001b[0m: 'tuple' object does not support item assignment"
     ]
    }
   ],
   "source": [
    "# Para darnos cuenta que es inmutable, trataremos de cambiar el ultimo valor de la tupla, \n",
    "# 4 en mi ejemplo, por 7. Veremos que esto nos genera un error: 'tuple' object does not support item assignment\n",
    "mitupla[2] = 7\n",
    "# Esta caracteristica es muy util, ya que nos permite crear elementos que sean seguros.\n",
    "# Mas adelante veremos que python muchas funciones devuelven tuplas, \n",
    "# justamente porque la intencion es poderlo leer pero no editarlo."
   ]
  },
  {
   "cell_type": "code",
   "execution_count": 9,
   "metadata": {},
   "outputs": [
    {
     "data": {
      "text/plain": [
       "3"
      ]
     },
     "execution_count": 9,
     "metadata": {},
     "output_type": "execute_result"
    }
   ],
   "source": [
    "# Podremos aplicar funciones a una tupla, como por ejemplo, calcular el TAMAñO de la tupla con la funcion len:\n",
    "len(mitupla)\n",
    "# Pero lo que jamas podremos hacer con ellas es modificarlas."
   ]
  },
  {
   "cell_type": "code",
   "execution_count": 17,
   "metadata": {},
   "outputs": [
    {
     "data": {
      "text/plain": [
       "{'manzana', 'peras', 'uva'}"
      ]
     },
     "execution_count": 17,
     "metadata": {},
     "output_type": "execute_result"
    }
   ],
   "source": [
    "# Vamos a ver que es un SET.\n",
    "# Un SET es un conjunto de elementos, el cual se escribe con parentesis curvos {}\n",
    "miconjunto = {\"manzana\",\"peras\", \"uva\"}\n",
    "miconjunto"
   ]
  },
  {
   "cell_type": "code",
   "execution_count": 18,
   "metadata": {},
   "outputs": [
    {
     "data": {
      "text/plain": [
       "3"
      ]
     },
     "execution_count": 18,
     "metadata": {},
     "output_type": "execute_result"
    }
   ],
   "source": [
    "# Podemos ver el tamaño de un conjunto con la funcion len:\n",
    "len(miconjunto)"
   ]
  },
  {
   "cell_type": "code",
   "execution_count": 19,
   "metadata": {},
   "outputs": [
    {
     "data": {
      "text/plain": [
       "{'ciruela', 'platano', 'uva'}"
      ]
     },
     "execution_count": 19,
     "metadata": {},
     "output_type": "execute_result"
    }
   ],
   "source": [
    "# Creamos un nuevo conjunto:\n",
    "miconjunto2 = {\"ciruela\", \"uva\", \"platano\"}\n",
    "miconjunto2"
   ]
  },
  {
   "cell_type": "code",
   "execution_count": 20,
   "metadata": {},
   "outputs": [
    {
     "data": {
      "text/plain": [
       "{'ciruela', 'manzana', 'peras', 'platano', 'uva'}"
      ]
     },
     "execution_count": 20,
     "metadata": {},
     "output_type": "execute_result"
    }
   ],
   "source": [
    "# Generamos la UNION de dos CONJUNTOS con el operador llamado pipe que es este: \"|\"\n",
    "# La union de dos conjuntos expluye las repeticiones (la interseccion)\n",
    "miconjunto | miconjunto2"
   ]
  },
  {
   "cell_type": "code",
   "execution_count": 22,
   "metadata": {},
   "outputs": [
    {
     "data": {
      "text/plain": [
       "{'uva'}"
      ]
     },
     "execution_count": 22,
     "metadata": {},
     "output_type": "execute_result"
    }
   ],
   "source": [
    "# Generemos la INTERSECCION de dos CONJUNTOS. \n",
    "# Para la interseccion no hay un operador, como si lo hay para la union.\n",
    "# Por tal motivo, para calcular la interseccion usamos el metodo \".intersection\" \n",
    "# Un METODO NO es una funcion que se aplica, si no que es una funcion inerente dentro de un objeto.\n",
    "miconjunto.intersection(miconjunto2)"
   ]
  }
 ],
 "metadata": {
  "kernelspec": {
   "display_name": ".venv",
   "language": "python",
   "name": "python3"
  },
  "language_info": {
   "codemirror_mode": {
    "name": "ipython",
    "version": 3
   },
   "file_extension": ".py",
   "mimetype": "text/x-python",
   "name": "python",
   "nbconvert_exporter": "python",
   "pygments_lexer": "ipython3",
   "version": "3.12.1"
  }
 },
 "nbformat": 4,
 "nbformat_minor": 2
}
