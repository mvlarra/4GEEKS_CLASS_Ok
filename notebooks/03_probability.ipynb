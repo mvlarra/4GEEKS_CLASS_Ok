{
 "cells": [
  {
   "cell_type": "markdown",
   "metadata": {},
   "source": [
    "## Introduction to Probabilities\n",
    "In 1814, Pierre-Simon Laplace wrote:  \n",
    "> Probability theory is nothing but common sense reduced to calculation. \n",
    "... [Probability] is thus simply a fraction whose numerator is the \n",
    "number of favorable cases and whose denominator is the number of all \n",
    "the cases possible ... when nothing leads us to expect that any one of \n",
    "these cases should occur more than any other.\n",
    "Laplace nailed it. To untangle a probability problem, all you have to do \n",
    "is define exactly what the cases are, and careful count the favorable \n",
    "and total cases. Let's be clear on our vocabulary words:\n",
    "- **Trial**\n",
    "A single occurrence with an outcome that is uncertain until we observe it.  \n",
    "*For example, rolling a single die.*\n",
    "- **Outcome**\n",
    "A possible result of a trial; one particular state of the world. What \n",
    "Laplace calls a **case.** *For example:* `4`.\n",
    "- **Sample Space**\n",
    "The set of all possible outcomes for the trial.   \n",
    "*For example,* `{1, 2, 3, 4, 5, 6}`.\n",
    "- **Event**\n",
    "A subset of the sample space, a set of outcomes that together have some \n",
    "property we are interested in.  \n",
    "*For example, the event \"even die roll\" is the set of outcomes* \n",
    "`{2, 4, 6}`.\n",
    "- **Probability**\n",
    "As Laplace said, the probability of an event with respect to a sample \n",
    "space is the \"number of favorable cases\" (outcomes from the sample space \n",
    "that are in the event) divided by the \"number of all the cases\" in the \n",
    "sample space (assuming \"nothing leads us to expect that any one of these \n",
    "cases should occur more than any other\"). Since this is a proper \n",
    "fraction, probability will always be a number between 0 (representing an \n",
    "impossible event) and 1 (representing a certain event).  \n",
    "*For example, the probability of an even die roll is 3/6 = 1/2.*"
   ]
  },
  {
   "cell_type": "code",
   "execution_count": 66,
   "metadata": {},
   "outputs": [],
   "source": [
    "import random # Generador de Numeros aleatoreos. \n",
    "#Traigo una libreria de numeros aleatorios. No se le pone alias ya que suele generar confusiones."
   ]
  },
  {
   "cell_type": "code",
   "execution_count": 67,
   "metadata": {},
   "outputs": [],
   "source": [
    "import numpy as np\n",
    "import pandas as pd\n",
    "import matplotlib.pyplot as plt"
   ]
  },
  {
   "cell_type": "code",
   "execution_count": 68,
   "metadata": {},
   "outputs": [
    {
     "data": {
      "text/plain": [
       "0"
      ]
     },
     "execution_count": 68,
     "metadata": {},
     "output_type": "execute_result"
    }
   ],
   "source": [
    "# GENERACION DE LANZAMIENTO DE UNA MONEDA, SELLO = 0, CARA = 1):\n",
    "toss = random.randint(0,1)  #Randint traera de manera aleatoria un 0 o un 1\n",
    "toss"
   ]
  },
  {
   "cell_type": "code",
   "execution_count": 69,
   "metadata": {},
   "outputs": [
    {
     "name": "stdout",
     "output_type": "stream",
     "text": [
      "[0, 0, 0, 0, 1, 0, 1, 0, 1, 1]\n"
     ]
    }
   ],
   "source": [
    "# AHORA DE MANERA PROGRAMATICA, HAREMOS EL LANZAMIENTO DE LA MONEDA 10 VECES. \n",
    "# SERA UNA GENERACION DE LANZAMIENTO DE MONEDAS, CON UNA ESTRUCTURA DE CONTROL (for, if, while)\n",
    "toss_results = [] # creamos una lista vacia\n",
    "for i in range(10): # hago 10 intentos\n",
    "    result = random.randint(0,1) # el resultado puede ser 0 0 1\n",
    "    toss_results.append(result) #vamos agregando a la lista el resultado de cada tirada\n",
    "print(toss_results)"
   ]
  },
  {
   "cell_type": "code",
   "execution_count": 70,
   "metadata": {},
   "outputs": [
    {
     "name": "stdout",
     "output_type": "stream",
     "text": [
      "[1, 0, 1, 0, 1, 1, 0, 1, 1, 1]\n"
     ]
    }
   ],
   "source": [
    "# COMO HAGO QUE UN LANZAMIENTO DE MONEDAS SEA UN EVENTO CONTROLADO Y REPRODUCIBLE. \n",
    "# HAREMOS UNA GENERACION DE LANZAMIENTO DE MONEDAS, CONTROLADO PARA SER REPRODUCIBLE. \n",
    "# SI SALE UN RESULTADO A MI, A CUALQUIER OTRA PERSONA QEU USE MIS MISMAS LIBRERIAS LE \n",
    "# SALDRA EL MISMO RESULTADO Y SERA DE ESTA FORMA COMPARABLE. \n",
    "random.seed(2024)  # escuchar minuto 10 que quiere decir esta linea.\n",
    "toss_results = [] # creamos una lista vacia\n",
    "for i in range(10): # hago 10 intentos\n",
    "    result = random.randint(0,1) # el resultado puede ser 0 0 1\n",
    "    toss_results.append(result) #vamos agregando a la lista el resultado de cada tirada\n",
    "print(toss_results)"
   ]
  },
  {
   "cell_type": "code",
   "execution_count": 71,
   "metadata": {},
   "outputs": [
    {
     "data": {
      "text/plain": [
       "0.48"
      ]
     },
     "execution_count": 71,
     "metadata": {},
     "output_type": "execute_result"
    }
   ],
   "source": [
    "# CUAL ES LA PROBABILIDAD DE QUE ME SALGA CARA O SELLO ? \n",
    "# EL NUMERO DE CASOS FAVORABLES DE QUE SALGA CARA, SERA IGUAL AL NUMERO DE CASOS FAVORABLES DE QUE SALGA SELLO.\n",
    "# CALCULAR LA PROBABILIDAD DE QEU SALGA CARA EN 10 LANZAMIENTOS DE MONEDA\n",
    "toss_results = [] # creamos una lista vacia\n",
    "for i in range(100): # hago 100 intentos\n",
    "    result = random.randint(0,1) # el resultado puede ser 0 0 1\n",
    "    toss_results.append(result) #vamos agregando a la lista el resultado de cada tirada\n",
    "# print(toss_results) # por ahora no lo usamos\n",
    "\n",
    "sum(toss_results)/len(toss_results) #calcula la probabilidad de que salga 1 en las 100 tiradas. "
   ]
  },
  {
   "cell_type": "code",
   "execution_count": 72,
   "metadata": {},
   "outputs": [
    {
     "data": {
      "text/plain": [
       "0.49"
      ]
     },
     "execution_count": 72,
     "metadata": {},
     "output_type": "execute_result"
    }
   ],
   "source": [
    "# cada vez que corra el codigo anterior me dara un valor diferente.\n",
    "# Si incrementamos el rango a 1000: veremos que cada vez que corro el codigo me dara un valor mas cercano a 0.50\n",
    "toss_results = [] # creamos una lista vacia\n",
    "for i in range(1000): # hago 100 intentos\n",
    "    result = random.randint(0,1) # el resultado puede ser 0 o 1\n",
    "    toss_results.append(result) #vamos agregando a la lista el resultado de cada tirada\n",
    "# print(toss_results) # por ahora no lo usamos\n",
    "\n",
    "sum(toss_results)/len(toss_results) #calcula la probabilidad de que salga 1 en las 100 tiradas. "
   ]
  },
  {
   "cell_type": "code",
   "execution_count": 73,
   "metadata": {},
   "outputs": [],
   "source": [
    "# Quiere decir que la probabilidad de un evento es el resultado esperado de una generacion aleatoria de eventos \n",
    "# que lo ejecutamos infinitasveces. \n",
    "# Si corremos infinitasveces el experimeto, llegariamos a la probabilidad esperada. en este caso 0.50"
   ]
  },
  {
   "cell_type": "code",
   "execution_count": 74,
   "metadata": {},
   "outputs": [],
   "source": [
    "# Cual es la probabilidad de sacar 1 o 2 en un lanzamiento de dados?\n",
    "# Resultados posibles: 6 Asi que el denominador es 6\n",
    "# Resultados posibles: 2\n",
    "# 2/6 = 33%"
   ]
  },
  {
   "cell_type": "code",
   "execution_count": 75,
   "metadata": {},
   "outputs": [],
   "source": [
    "# Traemos otra libreria util:\n",
    "from fractions import Fraction"
   ]
  },
  {
   "cell_type": "code",
   "execution_count": 76,
   "metadata": {},
   "outputs": [
    {
     "data": {
      "text/plain": [
       "Fraction(1, 3)"
      ]
     },
     "execution_count": 76,
     "metadata": {},
     "output_type": "execute_result"
    }
   ],
   "source": [
    "# Como represento ganar con tijera en un juego de  piedra papel o tijera?\n",
    "Fraction(1,3) \n",
    "# esta es la representacion de una francion en python. \n",
    "# es un tipo de datos creado adhoc, solo para representar fracciones."
   ]
  },
  {
   "cell_type": "code",
   "execution_count": 77,
   "metadata": {},
   "outputs": [],
   "source": [
    "#2. CALCULAR LA PROBABILIDAD DE SACAR PAR EN UN LANZAMIENTO DE DADOS\n",
    "# Generamos un Conjunto (estructura o coleccion de datos llamado set en python)\n",
    "# Nuestros resultados exitosos serian even. Los conjuntos los creamos con parentecis curvos.\n",
    "even = {2,4,6}\n",
    "points = {1,2,3,4,5,6} # posibles resultados de un dado. Asumimos que el dado esta perfectamente balanceado.\n",
    "set.intersection(even, points) # Nos dice la interseccion de even y points. los numeros comunes en ambos conjuntos\n",
    "# DEFINO LA FUNCION PROBABILIDAD:\n",
    "def Pr(event, space): # en matematica la probabilidad se anota con p mayuscula.\n",
    "    return Fraction(len(set.intersection(event, space)),len(space)) \n",
    "# len me da lo cantidad de elementos en una coleccion, \n",
    "# len me da la interseccion de los eventos favorables.\n",
    "# abajo len de los casos posibles. "
   ]
  },
  {
   "cell_type": "code",
   "execution_count": 78,
   "metadata": {},
   "outputs": [
    {
     "data": {
      "text/plain": [
       "Fraction(1, 2)"
      ]
     },
     "execution_count": 78,
     "metadata": {},
     "output_type": "execute_result"
    }
   ],
   "source": [
    "Pr(even, points)"
   ]
  },
  {
   "cell_type": "code",
   "execution_count": 79,
   "metadata": {},
   "outputs": [
    {
     "data": {
      "text/plain": [
       "Fraction(1, 3)"
      ]
     },
     "execution_count": 79,
     "metadata": {},
     "output_type": "execute_result"
    }
   ],
   "source": [
    "# CALCULAR LA PROBABILIDAD DE OBTENER 5 O 6 EN UN LANZAMIENTO DE DADOS\n",
    "success = {5,6}\n",
    "points = {1,2,3,4,5,6}\n",
    "Pr(success, points)"
   ]
  },
  {
   "cell_type": "markdown",
   "metadata": {},
   "source": [
    "THIS REFERS TO A DISCRETE SAMPLE SPACE. SO THE PROBABILITY IS RELATED TO A DISCRETE EVENT.  "
   ]
  },
  {
   "cell_type": "code",
   "execution_count": 80,
   "metadata": {},
   "outputs": [
    {
     "data": {
      "text/plain": [
       "array([0])"
      ]
     },
     "execution_count": 80,
     "metadata": {},
     "output_type": "execute_result"
    }
   ],
   "source": [
    "# QUE CAJA ESCOGIO PEPE SI QUIERE OBTENER UN 1:\n",
    "# box1 = [1,0,0,0] la probabilidad de exito es 1/4 = 0.25\n",
    "# box2 = [1,1,0,0,0] la probabilidad de exito es 2/5 = 0.4\n",
    "# pepe debe elegir la caja 2\n",
    "# haremos esto abajo, representado como un vector\n",
    "\n",
    "box1 = np.array([1,0,0,0]) # Sabemos que es un vector ya que tiene solo estos parentesis ([])\n",
    "np.random.choice(box1, 1)  # Simula el evento de sacar una piedra. \n",
    "# Cada vez que lo corra me dara un 1 o un 0 aleatoreamente."
   ]
  },
  {
   "cell_type": "code",
   "execution_count": 81,
   "metadata": {},
   "outputs": [
    {
     "data": {
      "text/plain": [
       "np.float64(0.2524)"
      ]
     },
     "execution_count": 81,
     "metadata": {},
     "output_type": "execute_result"
    }
   ],
   "source": [
    "trial = np.random.choice(box1, 10000) # aca tiramos 10000 para ver si sale 1 o 0\n",
    "trial.mean() #nos dice la proporcion de que salga 1\n",
    "# en el infinito la probabilidad se acercara al 0.25 que calculamos arriba"
   ]
  },
  {
   "cell_type": "code",
   "execution_count": 82,
   "metadata": {},
   "outputs": [
    {
     "data": {
      "text/plain": [
       "np.float64(0.39953)"
      ]
     },
     "execution_count": 82,
     "metadata": {},
     "output_type": "execute_result"
    }
   ],
   "source": [
    "box2 = np.array([1,0,1,0,0]) # el orden de los 1 y 0 da igual\n",
    "trial = np.random.choice(box2, 100000)\n",
    "trial.mean() #aqui funciona mean porque solo hay dos resultados 0, y 1, y ademas el resultado exitoso es 1 solo. \n",
    "# en el infinito la probabilidad se acercara al 0.40 que calculamos arriba\n"
   ]
  },
  {
   "cell_type": "code",
   "execution_count": 83,
   "metadata": {},
   "outputs": [
    {
     "data": {
      "text/plain": [
       "0.39953"
      ]
     },
     "execution_count": 83,
     "metadata": {},
     "output_type": "execute_result"
    }
   ],
   "source": [
    "# Cuando son mas de dos resultados, ejemplo piedra papel o tijera usamos:\n",
    "success = np.isin(trial, [1])\n",
    "probability = len(trial[success]) / len(trial)\n",
    "probability"
   ]
  },
  {
   "cell_type": "code",
   "execution_count": 84,
   "metadata": {},
   "outputs": [
    {
     "data": {
      "text/plain": [
       "0.2"
      ]
     },
     "execution_count": 84,
     "metadata": {},
     "output_type": "execute_result"
    }
   ],
   "source": [
    "# Hareos de ejemplo piedra papel o tijera. En pero se llama \"yankenpo\"\n",
    "np.random.seed(2024) \n",
    "# La linea de arriba permite controlar que a todos los compañeros nos salga el mismo resultados, bajo las mismas condiciones.  \n",
    "# Lo que hace es dejar fijo los resultados del primer intento. \n",
    "# Ponemos 2024 como un numero aleatoreo. por eso es importante el tema de la reproducibilidad. \n",
    "yankenpo = np.array([1,2,3])\n",
    "trial = np.random.choice(yankenpo, 10)\n",
    "success = np.isin(trial, [2]) # Asumimos que el exito es sacar tijera que lo represento con el nro dos. isin me da un vector de booleanos. Es una operacion logica.\n",
    "probability = len(trial[success]) / len(trial)\n",
    "probability"
   ]
  },
  {
   "cell_type": "code",
   "execution_count": 85,
   "metadata": {},
   "outputs": [
    {
     "data": {
      "text/plain": [
       "array([1, 2, 3])"
      ]
     },
     "execution_count": 85,
     "metadata": {},
     "output_type": "execute_result"
    }
   ],
   "source": [
    "yankenpo"
   ]
  },
  {
   "cell_type": "code",
   "execution_count": 86,
   "metadata": {},
   "outputs": [
    {
     "data": {
      "text/plain": [
       "array([1, 3, 1, 1, 1, 3, 2, 2, 1, 3])"
      ]
     },
     "execution_count": 86,
     "metadata": {},
     "output_type": "execute_result"
    }
   ],
   "source": [
    "trial # esta compuesto por los resultados"
   ]
  },
  {
   "cell_type": "code",
   "execution_count": 87,
   "metadata": {},
   "outputs": [
    {
     "data": {
      "text/plain": [
       "array([False, False, False, False, False, False,  True,  True, False,\n",
       "       False])"
      ]
     },
     "execution_count": 87,
     "metadata": {},
     "output_type": "execute_result"
    }
   ],
   "source": [
    "success # esta compuesto por si le acertaste o no en cada tirada."
   ]
  },
  {
   "cell_type": "code",
   "execution_count": 88,
   "metadata": {},
   "outputs": [
    {
     "data": {
      "text/plain": [
       "array([2, 2])"
      ]
     },
     "execution_count": 88,
     "metadata": {},
     "output_type": "execute_result"
    }
   ],
   "source": [
    "trial[success] # esto es una mascara (vector de booleanos dentro de los braquets rectos que afecta al vector)\n",
    "# Solo me devuelve los casos existosos, donde la mascara era true. es como un filtro"
   ]
  },
  {
   "cell_type": "code",
   "execution_count": 89,
   "metadata": {},
   "outputs": [
    {
     "data": {
      "text/plain": [
       "array([21])"
      ]
     },
     "execution_count": 89,
     "metadata": {},
     "output_type": "execute_result"
    }
   ],
   "source": [
    "# Juego de cartas donde ganas si sacas 21. Digamos que los resultados fueron asi:\n",
    "# 14, 22 , 21, 15 18,23,19\n",
    "result = np.array([14,22,21,15,18,23,19])\n",
    "success = np.isin(result, [21])\n",
    "result[success] #filtramos los casos existosos. (filtramos los casos exitosos)"
   ]
  },
  {
   "cell_type": "code",
   "execution_count": 90,
   "metadata": {},
   "outputs": [],
   "source": [
    "#3. EL SIGUIENTE PROBLEMA MUESTRA LA PROBABILIDAD CONDICIONAL\n",
    "# CUAL ES LA PROBABILIDAD DE SACAR UN As EN UNA SEGUNDA EXTRACION, YA SAQUE UN As.\n",
    "# cuantos Ases hay en una baraja: 4\n",
    "# Cuantos Naipes hay en una baraja: 52\n",
    "# Cual es la probabilidad de sacar en la primera extracion un As: 4/52 = 1/13\n",
    "# Si ya saque un As de la Baraja, cuantos naipes me quedan ? 51 y 3 Ases\n",
    "# Cual seria la probabilidad de sacar un As en la segunda extracion, dado que saque un As en la primera extracion ? y esto se escribe de esta forma: \n",
    "# Pr(sacar As en segunda extracion | Salio As en primer extracion)  Pr (A | B) = Probabilidad de A dado B\n",
    "# Por lo tanto esto quiere decir que esta probabilidad esta condicionada al evento de sacar un As en la primera extracion.\n",
    "# La formula para calcularlo seria Pr = 3/51"
   ]
  },
  {
   "cell_type": "code",
   "execution_count": 91,
   "metadata": {},
   "outputs": [],
   "source": [
    "# Importante Aprender estas Formulas:\n",
    "# Formula 1: Pr(A and B) = Pr(A)*Pr(B|A)\n",
    "# Formula 2: Si A y B son independientes entonces Pr(A|B) = Pr(A)  (Cuidado!!!: con asumir independencia cuando no la hay)\n",
    "# Formula 3: Regla de la cadena: Pr(A and B and C) = Pr(A)*Pr(B|A)*Pr(C|A and C) \n",
    "# Formula 4: Regla de Adicion: Pr(A or B) = Pr(A) + Pr(B) - Pr (A and B)"
   ]
  },
  {
   "cell_type": "code",
   "execution_count": 92,
   "metadata": {},
   "outputs": [],
   "source": [
    "# Ejemplo1:\n",
    "# En un avion hay 3 bombas, cada bomba tiene 0.4 probabilidades de explotar. Cual es la probabilidad de que la segunda bomba explote?\n",
    "# La probabilidad de que explote cada bomba es independiente de que explote la otra? \n",
    "# Es decir para que explote una, no es una condicion que explote otra. \n",
    "# Cual es la probabilidad de que las tres exploten a la vez ? 0.4 * 0.4 * 0.4 "
   ]
  },
  {
   "cell_type": "code",
   "execution_count": null,
   "metadata": {},
   "outputs": [],
   "source": [
    "# Ejemplo2:\n",
    "# Cual es la probabilidad de que en una sala con 10 personas dos cumplan años el mismo dia?\n",
    "# Y en una sala con 20 personas?\n",
    "# Y con una sala con 30 personas?\n",
    "# Y en una sala con 50 personas? \n",
    "\n",
    "#Usaremos NumPy para resolverlo.\n",
    "\n",
    "# Definimos una funcion:"
   ]
  },
  {
   "cell_type": "markdown",
   "metadata": {},
   "source": [
    "# ME QUEDE EN EL MINUTO 30 DE LA SEGUNDA PARTE DE LA CLASE 8"
   ]
  }
 ],
 "metadata": {
  "kernelspec": {
   "display_name": ".venv",
   "language": "python",
   "name": "python3"
  },
  "language_info": {
   "codemirror_mode": {
    "name": "ipython",
    "version": 3
   },
   "file_extension": ".py",
   "mimetype": "text/x-python",
   "name": "python",
   "nbconvert_exporter": "python",
   "pygments_lexer": "ipython3",
   "version": "3.12.1"
  }
 },
 "nbformat": 4,
 "nbformat_minor": 2
}
