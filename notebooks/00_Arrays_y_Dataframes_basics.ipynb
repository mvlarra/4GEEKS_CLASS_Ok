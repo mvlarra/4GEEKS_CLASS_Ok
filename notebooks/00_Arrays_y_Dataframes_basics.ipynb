{
 "cells": [
  {
   "cell_type": "markdown",
   "metadata": {},
   "source": [
    "### CLASE 05 12/27/2024: Operaciones con ARRAYS y DATAFRAMES xa usar en el PROYECTO PRE-WORK"
   ]
  },
  {
   "cell_type": "code",
   "execution_count": 4,
   "metadata": {},
   "outputs": [],
   "source": [
    "import pandas as pd # libreria para manipulacion de datos mediante data frames\n",
    "import numpy as np # libreria para manipulacion de datos mediantes matrices\n",
    "import matplotlib.pyplot as plt # libreria para manipulacion de graficos\n",
    "# import seaborn as sns, pero esa libreria no esta en requirements asi que no la ponemos no la vamos a usar."
   ]
  },
  {
   "cell_type": "markdown",
   "metadata": {},
   "source": [
    "#a continuacion vamos a hacer un arreglo de datos "
   ]
  },
  {
   "cell_type": "code",
   "execution_count": 5,
   "metadata": {},
   "outputs": [
    {
     "data": {
      "text/plain": [
       "array([1, 2, 3])"
      ]
     },
     "execution_count": 5,
     "metadata": {},
     "output_type": "execute_result"
    }
   ],
   "source": [
    "myarray = np.array([1,2,3])\n",
    "myarray\n",
    "# este es un vector de datos homogeneos, en tipo de datos, unidades, \n",
    "# y tema de observacion. \n",
    "# Si metemos texto en algun lado, todo se va a transformar en texto.\n",
    "# estos vectores representan algo, ejemplo, estaturas, kilogramos, \n",
    "# ventas de los ultimos años, pero no debemos mezclar estas unidades. \n",
    "# para eso genero vectores distintos."
   ]
  },
  {
   "cell_type": "code",
   "execution_count": 6,
   "metadata": {},
   "outputs": [
    {
     "data": {
      "text/html": [
       "<div>\n",
       "<style scoped>\n",
       "    .dataframe tbody tr th:only-of-type {\n",
       "        vertical-align: middle;\n",
       "    }\n",
       "\n",
       "    .dataframe tbody tr th {\n",
       "        vertical-align: top;\n",
       "    }\n",
       "\n",
       "    .dataframe thead th {\n",
       "        text-align: right;\n",
       "    }\n",
       "</style>\n",
       "<table border=\"1\" class=\"dataframe\">\n",
       "  <thead>\n",
       "    <tr style=\"text-align: right;\">\n",
       "      <th></th>\n",
       "      <th>name</th>\n",
       "      <th>age</th>\n",
       "    </tr>\n",
       "  </thead>\n",
       "  <tbody>\n",
       "    <tr>\n",
       "      <th>0</th>\n",
       "      <td>ana</td>\n",
       "      <td>23</td>\n",
       "    </tr>\n",
       "    <tr>\n",
       "      <th>1</th>\n",
       "      <td>Peter</td>\n",
       "      <td>34</td>\n",
       "    </tr>\n",
       "  </tbody>\n",
       "</table>\n",
       "</div>"
      ],
      "text/plain": [
       "    name  age\n",
       "0    ana   23\n",
       "1  Peter   34"
      ]
     },
     "execution_count": 6,
     "metadata": {},
     "output_type": "execute_result"
    }
   ],
   "source": [
    "# Para crear un data frame, hay dos formas.\n",
    "# 1ro. Creando un Diccionario \n",
    "# 2do. lo hacemos mediente una lista de datos\n",
    "# Cada Key es un nombre de columna. \n",
    "\n",
    "df = pd.DataFrame({\"name\": [\"ana\", \"Peter\"], \"age\": [23, 34]})\n",
    "df "
   ]
  },
  {
   "cell_type": "code",
   "execution_count": 7,
   "metadata": {},
   "outputs": [
    {
     "name": "stdout",
     "output_type": "stream",
     "text": [
      "<class 'pandas.core.frame.DataFrame'>\n",
      "RangeIndex: 2 entries, 0 to 1\n",
      "Data columns (total 2 columns):\n",
      " #   Column  Non-Null Count  Dtype \n",
      "---  ------  --------------  ----- \n",
      " 0   name    2 non-null      object\n",
      " 1   age     2 non-null      int64 \n",
      "dtypes: int64(1), object(1)\n",
      "memory usage: 164.0+ bytes\n"
     ]
    }
   ],
   "source": [
    "# Vamos a entender como ver la info dentro de un data frame. \n",
    "# metodo info nos trae informacion de ese dataframe.\n",
    "df.info()"
   ]
  },
  {
   "cell_type": "code",
   "execution_count": 8,
   "metadata": {},
   "outputs": [],
   "source": [
    "# Se ve que no hay datos nullos\n",
    "# En pandas al tipo de dato texto, le llaman \"object\"\n",
    "# int64 es un entero grande como 1.000.000\n",
    "# La ultima linea nos muestra la memoria utilizada. Recordar que python trabaja \n",
    "# sobre la memoria ram, o sea que esos 164 bytes son sobre la ram. \n",
    "# Siempre estar atentos al tamaño de memoria del objeto en data frame.\n",
    "# Ejemplo, 1 mes de datos de ventas puede pesar un tera byte"
   ]
  },
  {
   "cell_type": "code",
   "execution_count": 9,
   "metadata": {},
   "outputs": [
    {
     "data": {
      "text/html": [
       "<div>\n",
       "<style scoped>\n",
       "    .dataframe tbody tr th:only-of-type {\n",
       "        vertical-align: middle;\n",
       "    }\n",
       "\n",
       "    .dataframe tbody tr th {\n",
       "        vertical-align: top;\n",
       "    }\n",
       "\n",
       "    .dataframe thead th {\n",
       "        text-align: right;\n",
       "    }\n",
       "</style>\n",
       "<table border=\"1\" class=\"dataframe\">\n",
       "  <thead>\n",
       "    <tr style=\"text-align: right;\">\n",
       "      <th></th>\n",
       "      <th>name</th>\n",
       "      <th>age</th>\n",
       "      <th>salary</th>\n",
       "    </tr>\n",
       "  </thead>\n",
       "  <tbody>\n",
       "    <tr>\n",
       "      <th>0</th>\n",
       "      <td>ana</td>\n",
       "      <td>23</td>\n",
       "      <td>1000.0</td>\n",
       "    </tr>\n",
       "    <tr>\n",
       "      <th>1</th>\n",
       "      <td>Peter</td>\n",
       "      <td>34</td>\n",
       "      <td>NaN</td>\n",
       "    </tr>\n",
       "  </tbody>\n",
       "</table>\n",
       "</div>"
      ],
      "text/plain": [
       "    name  age  salary\n",
       "0    ana   23  1000.0\n",
       "1  Peter   34     NaN"
      ]
     },
     "execution_count": 9,
     "metadata": {},
     "output_type": "execute_result"
    }
   ],
   "source": [
    "# Ahora vamos a agregar una columna con datos nulos. \n",
    "# para poner un dato nulo de tipo numerico, se pone np.nan. \n",
    "# Esta es la representacion numerica de la ausencia de datos. NaN = Not a Number\n",
    "# La ausencia de datos es un dato, y es algo comun.\n",
    "df[\"salary\"] = [1000, np.nan]\n",
    "df"
   ]
  },
  {
   "cell_type": "code",
   "execution_count": 10,
   "metadata": {},
   "outputs": [
    {
     "data": {
      "text/plain": [
       "(2, 3)"
      ]
     },
     "execution_count": 10,
     "metadata": {},
     "output_type": "execute_result"
    }
   ],
   "source": [
    "# Las dimenciones de un data frame se mide por su cantidad de filas y columnas. En este caso vemos 2 filas y 3 columnas.\n",
    "# para saber el tamaño del data frame uso el metodo shape, que retornara primero la cantidad de filas y luego la cantidad de columnas. \n",
    "# eSTO ME DEVUELVE UNA TUPLA(coleccion de datos dentro de un parentesis), QUE ES INMUTABLE Y ADEMAS SE PUEDE LLAMAR POR INDICES.\n",
    "# Recordar que en python el indice empieza en 0\n",
    "df.shape"
   ]
  },
  {
   "cell_type": "code",
   "execution_count": 11,
   "metadata": {},
   "outputs": [
    {
     "data": {
      "text/plain": [
       "2"
      ]
     },
     "execution_count": 11,
     "metadata": {},
     "output_type": "execute_result"
    }
   ],
   "source": [
    "# Para traer el primer elemento de la tupla\n",
    "df.shape[0]"
   ]
  },
  {
   "cell_type": "code",
   "execution_count": 12,
   "metadata": {},
   "outputs": [
    {
     "data": {
      "text/plain": [
       "3"
      ]
     },
     "execution_count": 12,
     "metadata": {},
     "output_type": "execute_result"
    }
   ],
   "source": [
    "# Para traer el segundo elemento de la tupla\n",
    "df.shape[1]"
   ]
  },
  {
   "cell_type": "code",
   "execution_count": 13,
   "metadata": {},
   "outputs": [
    {
     "data": {
      "text/plain": [
       "0      ana\n",
       "1    Peter\n",
       "Name: name, dtype: object"
      ]
     },
     "execution_count": 13,
     "metadata": {},
     "output_type": "execute_result"
    }
   ],
   "source": [
    "#Para traerme una fila, hago:\n",
    "df[\"name\"]\n",
    "# en este caso python se esta trayendo el vector, \n",
    "# (pandas lo llama series a los vectores)"
   ]
  },
  {
   "cell_type": "code",
   "execution_count": 14,
   "metadata": {},
   "outputs": [
    {
     "data": {
      "text/html": [
       "<div>\n",
       "<style scoped>\n",
       "    .dataframe tbody tr th:only-of-type {\n",
       "        vertical-align: middle;\n",
       "    }\n",
       "\n",
       "    .dataframe tbody tr th {\n",
       "        vertical-align: top;\n",
       "    }\n",
       "\n",
       "    .dataframe thead th {\n",
       "        text-align: right;\n",
       "    }\n",
       "</style>\n",
       "<table border=\"1\" class=\"dataframe\">\n",
       "  <thead>\n",
       "    <tr style=\"text-align: right;\">\n",
       "      <th></th>\n",
       "      <th>name</th>\n",
       "    </tr>\n",
       "  </thead>\n",
       "  <tbody>\n",
       "    <tr>\n",
       "      <th>0</th>\n",
       "      <td>ana</td>\n",
       "    </tr>\n",
       "    <tr>\n",
       "      <th>1</th>\n",
       "      <td>Peter</td>\n",
       "    </tr>\n",
       "  </tbody>\n",
       "</table>\n",
       "</div>"
      ],
      "text/plain": [
       "    name\n",
       "0    ana\n",
       "1  Peter"
      ]
     },
     "execution_count": 14,
     "metadata": {},
     "output_type": "execute_result"
    }
   ],
   "source": [
    "# Para verlo como matriz, (como si fuera una data frame de una sola columna),\n",
    "# hacemos esto:\n",
    "df[[\"name\"]]"
   ]
  },
  {
   "cell_type": "code",
   "execution_count": 15,
   "metadata": {},
   "outputs": [],
   "source": [
    "# El primero es una serie (un vector), y \n",
    "# el segundo es un dataframea (una matriz 2x1)"
   ]
  },
  {
   "cell_type": "code",
   "execution_count": 16,
   "metadata": {},
   "outputs": [
    {
     "data": {
      "text/html": [
       "<div>\n",
       "<style scoped>\n",
       "    .dataframe tbody tr th:only-of-type {\n",
       "        vertical-align: middle;\n",
       "    }\n",
       "\n",
       "    .dataframe tbody tr th {\n",
       "        vertical-align: top;\n",
       "    }\n",
       "\n",
       "    .dataframe thead th {\n",
       "        text-align: right;\n",
       "    }\n",
       "</style>\n",
       "<table border=\"1\" class=\"dataframe\">\n",
       "  <thead>\n",
       "    <tr style=\"text-align: right;\">\n",
       "      <th></th>\n",
       "      <th>name</th>\n",
       "      <th>salary</th>\n",
       "    </tr>\n",
       "  </thead>\n",
       "  <tbody>\n",
       "    <tr>\n",
       "      <th>0</th>\n",
       "      <td>ana</td>\n",
       "      <td>1000.0</td>\n",
       "    </tr>\n",
       "    <tr>\n",
       "      <th>1</th>\n",
       "      <td>Peter</td>\n",
       "      <td>NaN</td>\n",
       "    </tr>\n",
       "  </tbody>\n",
       "</table>\n",
       "</div>"
      ],
      "text/plain": [
       "    name  salary\n",
       "0    ana  1000.0\n",
       "1  Peter     NaN"
      ]
     },
     "execution_count": 16,
     "metadata": {},
     "output_type": "execute_result"
    }
   ],
   "source": [
    "df[[\"name\",\"salary\"]] # estoy llamando una matriz 2x2 (dataframe 2x2)"
   ]
  },
  {
   "cell_type": "code",
   "execution_count": 17,
   "metadata": {},
   "outputs": [
    {
     "data": {
      "text/plain": [
       "np.float64(28.5)"
      ]
     },
     "execution_count": 17,
     "metadata": {},
     "output_type": "execute_result"
    }
   ],
   "source": [
    "# a las columnas tambien podemos aplicarles metodos, como por ejemplo, \n",
    "# para calcular el maximo, el minimo\n",
    "df[\"age\"].mean() # mean = minimo"
   ]
  },
  {
   "cell_type": "code",
   "execution_count": 18,
   "metadata": {},
   "outputs": [
    {
     "data": {
      "text/plain": [
       "np.int64(34)"
      ]
     },
     "execution_count": 18,
     "metadata": {},
     "output_type": "execute_result"
    }
   ],
   "source": [
    "df[\"age\"].max() \n",
    "# valor maximo de la columna \"age\". \n",
    "# usar \"min\" para traerme el minimo"
   ]
  },
  {
   "cell_type": "code",
   "execution_count": 19,
   "metadata": {},
   "outputs": [
    {
     "data": {
      "text/html": [
       "<div>\n",
       "<style scoped>\n",
       "    .dataframe tbody tr th:only-of-type {\n",
       "        vertical-align: middle;\n",
       "    }\n",
       "\n",
       "    .dataframe tbody tr th {\n",
       "        vertical-align: top;\n",
       "    }\n",
       "\n",
       "    .dataframe thead th {\n",
       "        text-align: right;\n",
       "    }\n",
       "</style>\n",
       "<table border=\"1\" class=\"dataframe\">\n",
       "  <thead>\n",
       "    <tr style=\"text-align: right;\">\n",
       "      <th></th>\n",
       "      <th>name</th>\n",
       "      <th>age</th>\n",
       "      <th>salary</th>\n",
       "    </tr>\n",
       "  </thead>\n",
       "  <tbody>\n",
       "    <tr>\n",
       "      <th>1</th>\n",
       "      <td>Peter</td>\n",
       "      <td>34</td>\n",
       "      <td>NaN</td>\n",
       "    </tr>\n",
       "    <tr>\n",
       "      <th>0</th>\n",
       "      <td>ana</td>\n",
       "      <td>23</td>\n",
       "      <td>1000.0</td>\n",
       "    </tr>\n",
       "  </tbody>\n",
       "</table>\n",
       "</div>"
      ],
      "text/plain": [
       "    name  age  salary\n",
       "1  Peter   34     NaN\n",
       "0    ana   23  1000.0"
      ]
     },
     "execution_count": 19,
     "metadata": {},
     "output_type": "execute_result"
    }
   ],
   "source": [
    "# Para ordenar la tabla\n",
    "df.sort_values(by=\"age\", ascending = False) \n",
    "# aca estoy ordenando por los valores de la columna age. que por defecto ordena de menor a mayor. A menos que pongamos ascending false.\n",
    "# Si quisieramos, es posible ordenar por mas de una columna. En este caso no tiene sentido, ya que salario no tiene mas de un dato.  "
   ]
  },
  {
   "cell_type": "code",
   "execution_count": 20,
   "metadata": {},
   "outputs": [
    {
     "data": {
      "text/html": [
       "<div>\n",
       "<style scoped>\n",
       "    .dataframe tbody tr th:only-of-type {\n",
       "        vertical-align: middle;\n",
       "    }\n",
       "\n",
       "    .dataframe tbody tr th {\n",
       "        vertical-align: top;\n",
       "    }\n",
       "\n",
       "    .dataframe thead th {\n",
       "        text-align: right;\n",
       "    }\n",
       "</style>\n",
       "<table border=\"1\" class=\"dataframe\">\n",
       "  <thead>\n",
       "    <tr style=\"text-align: right;\">\n",
       "      <th></th>\n",
       "      <th>name</th>\n",
       "      <th>age</th>\n",
       "      <th>salary</th>\n",
       "    </tr>\n",
       "  </thead>\n",
       "  <tbody>\n",
       "    <tr>\n",
       "      <th>0</th>\n",
       "      <td>ana</td>\n",
       "      <td>23</td>\n",
       "      <td>1000.0</td>\n",
       "    </tr>\n",
       "    <tr>\n",
       "      <th>1</th>\n",
       "      <td>Peter</td>\n",
       "      <td>34</td>\n",
       "      <td>NaN</td>\n",
       "    </tr>\n",
       "  </tbody>\n",
       "</table>\n",
       "</div>"
      ],
      "text/plain": [
       "    name  age  salary\n",
       "0    ana   23  1000.0\n",
       "1  Peter   34     NaN"
      ]
     },
     "execution_count": 20,
     "metadata": {},
     "output_type": "execute_result"
    }
   ],
   "source": [
    "df.sort_values(by=[\"age\", \"salary\"])"
   ]
  },
  {
   "cell_type": "code",
   "execution_count": 21,
   "metadata": {},
   "outputs": [],
   "source": [
    "# vamos a abrir un nuevo dataframe abriendo un libro de excel para el que \n",
    "# necesitamos instalar una libreria: python -m pip install openpyxl"
   ]
  },
  {
   "cell_type": "code",
   "execution_count": 22,
   "metadata": {},
   "outputs": [
    {
     "data": {
      "text/html": [
       "<div>\n",
       "<style scoped>\n",
       "    .dataframe tbody tr th:only-of-type {\n",
       "        vertical-align: middle;\n",
       "    }\n",
       "\n",
       "    .dataframe tbody tr th {\n",
       "        vertical-align: top;\n",
       "    }\n",
       "\n",
       "    .dataframe thead th {\n",
       "        text-align: right;\n",
       "    }\n",
       "</style>\n",
       "<table border=\"1\" class=\"dataframe\">\n",
       "  <thead>\n",
       "    <tr style=\"text-align: right;\">\n",
       "      <th></th>\n",
       "      <th>Date</th>\n",
       "      <th>Region</th>\n",
       "      <th>Type</th>\n",
       "      <th>Units</th>\n",
       "      <th>Sales</th>\n",
       "    </tr>\n",
       "  </thead>\n",
       "  <tbody>\n",
       "    <tr>\n",
       "      <th>0</th>\n",
       "      <td>2020-07-11</td>\n",
       "      <td>East</td>\n",
       "      <td>Children's Clothing</td>\n",
       "      <td>18.0</td>\n",
       "      <td>306</td>\n",
       "    </tr>\n",
       "    <tr>\n",
       "      <th>1</th>\n",
       "      <td>2020-09-23</td>\n",
       "      <td>North</td>\n",
       "      <td>Children's Clothing</td>\n",
       "      <td>14.0</td>\n",
       "      <td>448</td>\n",
       "    </tr>\n",
       "    <tr>\n",
       "      <th>2</th>\n",
       "      <td>2020-04-02</td>\n",
       "      <td>South</td>\n",
       "      <td>Women's Clothing</td>\n",
       "      <td>17.0</td>\n",
       "      <td>425</td>\n",
       "    </tr>\n",
       "    <tr>\n",
       "      <th>3</th>\n",
       "      <td>2020-02-28</td>\n",
       "      <td>East</td>\n",
       "      <td>Children's Clothing</td>\n",
       "      <td>26.0</td>\n",
       "      <td>832</td>\n",
       "    </tr>\n",
       "    <tr>\n",
       "      <th>4</th>\n",
       "      <td>2020-03-19</td>\n",
       "      <td>West</td>\n",
       "      <td>Women's Clothing</td>\n",
       "      <td>3.0</td>\n",
       "      <td>33</td>\n",
       "    </tr>\n",
       "    <tr>\n",
       "      <th>...</th>\n",
       "      <td>...</td>\n",
       "      <td>...</td>\n",
       "      <td>...</td>\n",
       "      <td>...</td>\n",
       "      <td>...</td>\n",
       "    </tr>\n",
       "    <tr>\n",
       "      <th>995</th>\n",
       "      <td>2020-02-11</td>\n",
       "      <td>East</td>\n",
       "      <td>Children's Clothing</td>\n",
       "      <td>35.0</td>\n",
       "      <td>735</td>\n",
       "    </tr>\n",
       "    <tr>\n",
       "      <th>996</th>\n",
       "      <td>2020-12-25</td>\n",
       "      <td>North</td>\n",
       "      <td>Men's Clothing</td>\n",
       "      <td>NaN</td>\n",
       "      <td>1155</td>\n",
       "    </tr>\n",
       "    <tr>\n",
       "      <th>997</th>\n",
       "      <td>2020-08-31</td>\n",
       "      <td>South</td>\n",
       "      <td>Men's Clothing</td>\n",
       "      <td>13.0</td>\n",
       "      <td>208</td>\n",
       "    </tr>\n",
       "    <tr>\n",
       "      <th>998</th>\n",
       "      <td>2020-08-23</td>\n",
       "      <td>South</td>\n",
       "      <td>Women's Clothing</td>\n",
       "      <td>17.0</td>\n",
       "      <td>493</td>\n",
       "    </tr>\n",
       "    <tr>\n",
       "      <th>999</th>\n",
       "      <td>2020-08-17</td>\n",
       "      <td>North</td>\n",
       "      <td>Women's Clothing</td>\n",
       "      <td>25.0</td>\n",
       "      <td>300</td>\n",
       "    </tr>\n",
       "  </tbody>\n",
       "</table>\n",
       "<p>1000 rows × 5 columns</p>\n",
       "</div>"
      ],
      "text/plain": [
       "          Date Region                 Type  Units  Sales\n",
       "0   2020-07-11   East  Children's Clothing   18.0    306\n",
       "1   2020-09-23  North  Children's Clothing   14.0    448\n",
       "2   2020-04-02  South     Women's Clothing   17.0    425\n",
       "3   2020-02-28   East  Children's Clothing   26.0    832\n",
       "4   2020-03-19   West     Women's Clothing    3.0     33\n",
       "..         ...    ...                  ...    ...    ...\n",
       "995 2020-02-11   East  Children's Clothing   35.0    735\n",
       "996 2020-12-25  North       Men's Clothing    NaN   1155\n",
       "997 2020-08-31  South       Men's Clothing   13.0    208\n",
       "998 2020-08-23  South     Women's Clothing   17.0    493\n",
       "999 2020-08-17  North     Women's Clothing   25.0    300\n",
       "\n",
       "[1000 rows x 5 columns]"
      ]
     },
     "execution_count": 22,
     "metadata": {},
     "output_type": "execute_result"
    }
   ],
   "source": [
    "df = pd.read_excel('https://github.com/datagy/mediumdata/raw/master/sample_pivot.xlsx')\n",
    "df"
   ]
  },
  {
   "cell_type": "code",
   "execution_count": 23,
   "metadata": {},
   "outputs": [
    {
     "name": "stdout",
     "output_type": "stream",
     "text": [
      "<class 'pandas.core.frame.DataFrame'>\n",
      "RangeIndex: 1000 entries, 0 to 999\n",
      "Data columns (total 5 columns):\n",
      " #   Column  Non-Null Count  Dtype         \n",
      "---  ------  --------------  -----         \n",
      " 0   Date    1000 non-null   datetime64[ns]\n",
      " 1   Region  1000 non-null   object        \n",
      " 2   Type    1000 non-null   object        \n",
      " 3   Units   911 non-null    float64       \n",
      " 4   Sales   1000 non-null   int64         \n",
      "dtypes: datetime64[ns](1), float64(1), int64(1), object(2)\n",
      "memory usage: 39.2+ KB\n"
     ]
    }
   ],
   "source": [
    "# Date es una columna del tipo fecha. La fecha esta siendo representada en el formato yyyy-mm-dd\n",
    "# La segunda columna es del tipo texto\n",
    "# La tercera es del tipo categorizaciones... Grupos de cosas\n",
    "# Unit son cantidades, y como hay un NaN, lo python lo interpreta todo como flotante.\n",
    "# La columna sales es moneda\n",
    "# Veamos que nos dice el metodo info:\n",
    "df.info()"
   ]
  },
  {
   "cell_type": "code",
   "execution_count": 24,
   "metadata": {},
   "outputs": [],
   "source": [
    "# para el mundo de data scientst, cada fila se le llama \"OBSERVACION\".\n",
    "# Cada fila es una observacion. En este caso tenemos un data frame de \n",
    "# 1000 observaciones, y de tamaño 1000x5"
   ]
  },
  {
   "cell_type": "code",
   "execution_count": 25,
   "metadata": {},
   "outputs": [
    {
     "data": {
      "text/html": [
       "<div>\n",
       "<style scoped>\n",
       "    .dataframe tbody tr th:only-of-type {\n",
       "        vertical-align: middle;\n",
       "    }\n",
       "\n",
       "    .dataframe tbody tr th {\n",
       "        vertical-align: top;\n",
       "    }\n",
       "\n",
       "    .dataframe thead th {\n",
       "        text-align: right;\n",
       "    }\n",
       "</style>\n",
       "<table border=\"1\" class=\"dataframe\">\n",
       "  <thead>\n",
       "    <tr style=\"text-align: right;\">\n",
       "      <th></th>\n",
       "      <th>Date</th>\n",
       "      <th>Region</th>\n",
       "      <th>Type</th>\n",
       "      <th>Units</th>\n",
       "      <th>Sales</th>\n",
       "    </tr>\n",
       "  </thead>\n",
       "  <tbody>\n",
       "    <tr>\n",
       "      <th>236</th>\n",
       "      <td>2020-04-18</td>\n",
       "      <td>East</td>\n",
       "      <td>Women's Clothing</td>\n",
       "      <td>6.0</td>\n",
       "      <td>759</td>\n",
       "    </tr>\n",
       "    <tr>\n",
       "      <th>258</th>\n",
       "      <td>2020-05-17</td>\n",
       "      <td>South</td>\n",
       "      <td>Men's Clothing</td>\n",
       "      <td>24.0</td>\n",
       "      <td>266</td>\n",
       "    </tr>\n",
       "    <tr>\n",
       "      <th>171</th>\n",
       "      <td>2020-10-26</td>\n",
       "      <td>East</td>\n",
       "      <td>Women's Clothing</td>\n",
       "      <td>4.0</td>\n",
       "      <td>442</td>\n",
       "    </tr>\n",
       "    <tr>\n",
       "      <th>759</th>\n",
       "      <td>2020-10-16</td>\n",
       "      <td>East</td>\n",
       "      <td>Women's Clothing</td>\n",
       "      <td>14.0</td>\n",
       "      <td>308</td>\n",
       "    </tr>\n",
       "    <tr>\n",
       "      <th>263</th>\n",
       "      <td>2020-05-26</td>\n",
       "      <td>East</td>\n",
       "      <td>Men's Clothing</td>\n",
       "      <td>33.0</td>\n",
       "      <td>486</td>\n",
       "    </tr>\n",
       "    <tr>\n",
       "      <th>247</th>\n",
       "      <td>2020-04-07</td>\n",
       "      <td>West</td>\n",
       "      <td>Children's Clothing</td>\n",
       "      <td>22.0</td>\n",
       "      <td>990</td>\n",
       "    </tr>\n",
       "    <tr>\n",
       "      <th>344</th>\n",
       "      <td>2020-03-01</td>\n",
       "      <td>West</td>\n",
       "      <td>Men's Clothing</td>\n",
       "      <td>8.0</td>\n",
       "      <td>345</td>\n",
       "    </tr>\n",
       "    <tr>\n",
       "      <th>599</th>\n",
       "      <td>2020-03-27</td>\n",
       "      <td>South</td>\n",
       "      <td>Men's Clothing</td>\n",
       "      <td>11.0</td>\n",
       "      <td>300</td>\n",
       "    </tr>\n",
       "    <tr>\n",
       "      <th>305</th>\n",
       "      <td>2020-01-17</td>\n",
       "      <td>South</td>\n",
       "      <td>Women's Clothing</td>\n",
       "      <td>12.0</td>\n",
       "      <td>208</td>\n",
       "    </tr>\n",
       "    <tr>\n",
       "      <th>300</th>\n",
       "      <td>2020-12-09</td>\n",
       "      <td>East</td>\n",
       "      <td>Women's Clothing</td>\n",
       "      <td>26.0</td>\n",
       "      <td>140</td>\n",
       "    </tr>\n",
       "  </tbody>\n",
       "</table>\n",
       "</div>"
      ],
      "text/plain": [
       "          Date Region                 Type  Units  Sales\n",
       "236 2020-04-18   East     Women's Clothing    6.0    759\n",
       "258 2020-05-17  South       Men's Clothing   24.0    266\n",
       "171 2020-10-26   East     Women's Clothing    4.0    442\n",
       "759 2020-10-16   East     Women's Clothing   14.0    308\n",
       "263 2020-05-26   East       Men's Clothing   33.0    486\n",
       "247 2020-04-07   West  Children's Clothing   22.0    990\n",
       "344 2020-03-01   West       Men's Clothing    8.0    345\n",
       "599 2020-03-27  South       Men's Clothing   11.0    300\n",
       "305 2020-01-17  South     Women's Clothing   12.0    208\n",
       "300 2020-12-09   East     Women's Clothing   26.0    140"
      ]
     },
     "execution_count": 25,
     "metadata": {},
     "output_type": "execute_result"
    }
   ],
   "source": [
    "# Para ver de forma aleatoria, una muestra de mis datos usando el metodo sample (Recordar que es al azar). \n",
    "# La ventaja es que podemos tener una mejor vistazo del tipo de datos que hay. Pareciera en mi caso, que las observaciones corresponden a un solo año\n",
    "# La columna region, nos muestra que en principio solo hay 4 regiones.\n",
    "# De igual forma type. Pareciera que son 3 categorias.\n",
    "# Unidades, en la muestra de otro estudiante se ven dos unidades con Nan y Ventas. otra vez pongo df.info para ver cuantos nulos tengo. Alli vemos que la columna  units tiene 911 valores not null. Asi que hay 89 nulos.\n",
    "df.sample(10)"
   ]
  },
  {
   "cell_type": "code",
   "execution_count": 26,
   "metadata": {},
   "outputs": [],
   "source": [
    "# Por esto siempre es importante que lo primero que se haga en un dataframe es \n",
    "# aplicar metodo info, para ver tipos de datos y nulos\n",
    "# y metodo sample para tener un pantallazo general de mis datos."
   ]
  },
  {
   "cell_type": "code",
   "execution_count": 27,
   "metadata": {},
   "outputs": [
    {
     "data": {
      "text/plain": [
       "Region\n",
       "East     411\n",
       "North    316\n",
       "South    137\n",
       "West     136\n",
       "Name: count, dtype: int64"
      ]
     },
     "execution_count": 27,
     "metadata": {},
     "output_type": "execute_result"
    }
   ],
   "source": [
    "# Si quisiera asegurarme la cantidad de valores distintos y unicos que tiene \n",
    "# una columna, uso el metodo value_counts\n",
    "df[\"Region\"].value_counts()"
   ]
  },
  {
   "cell_type": "code",
   "execution_count": 28,
   "metadata": {},
   "outputs": [
    {
     "data": {
      "text/plain": [
       "Type\n",
       "Women's Clothing       424\n",
       "Men's Clothing         291\n",
       "Children's Clothing    285\n",
       "Name: count, dtype: int64"
      ]
     },
     "execution_count": 28,
     "metadata": {},
     "output_type": "execute_result"
    }
   ],
   "source": [
    "df[\"Type\"].value_counts()"
   ]
  },
  {
   "cell_type": "code",
   "execution_count": 29,
   "metadata": {},
   "outputs": [
    {
     "name": "stdout",
     "output_type": "stream",
     "text": [
      "<class 'pandas.core.frame.DataFrame'>\n",
      "RangeIndex: 1000 entries, 0 to 999\n",
      "Data columns (total 5 columns):\n",
      " #   Column  Non-Null Count  Dtype         \n",
      "---  ------  --------------  -----         \n",
      " 0   Date    1000 non-null   datetime64[ns]\n",
      " 1   Region  1000 non-null   category      \n",
      " 2   Type    1000 non-null   category      \n",
      " 3   Units   911 non-null    float64       \n",
      " 4   Sales   1000 non-null   int64         \n",
      "dtypes: category(2), datetime64[ns](1), float64(1), int64(1)\n",
      "memory usage: 25.8 KB\n"
     ]
    }
   ],
   "source": [
    "#  Vamos a hacer una transformacion, convirtiendo el tipo de datos de la columna  \n",
    "#  region y type en categorias. Esto hace que el codigo corra mas rapido. \n",
    "#  Siempre que pueda transformar texto (object) a categorical, hacerlo.\n",
    "# \"pd.categorical\" es una funcion que convierte la columna en categorical. \n",
    "\n",
    "df[\"Region\"] = pd.Categorical(df[\"Region\"])\n",
    "df[\"Type\"] = pd.Categorical(df[\"Type\"])\n",
    "df.info()"
   ]
  },
  {
   "cell_type": "code",
   "execution_count": 30,
   "metadata": {},
   "outputs": [
    {
     "data": {
      "text/html": [
       "<div>\n",
       "<style scoped>\n",
       "    .dataframe tbody tr th:only-of-type {\n",
       "        vertical-align: middle;\n",
       "    }\n",
       "\n",
       "    .dataframe tbody tr th {\n",
       "        vertical-align: top;\n",
       "    }\n",
       "\n",
       "    .dataframe thead th {\n",
       "        text-align: right;\n",
       "    }\n",
       "</style>\n",
       "<table border=\"1\" class=\"dataframe\">\n",
       "  <thead>\n",
       "    <tr style=\"text-align: right;\">\n",
       "      <th></th>\n",
       "      <th>Units</th>\n",
       "      <th>Sales</th>\n",
       "    </tr>\n",
       "  </thead>\n",
       "  <tbody>\n",
       "    <tr>\n",
       "      <th>count</th>\n",
       "      <td>911.000000</td>\n",
       "      <td>1000.000000</td>\n",
       "    </tr>\n",
       "    <tr>\n",
       "      <th>mean</th>\n",
       "      <td>19.638858</td>\n",
       "      <td>427.254000</td>\n",
       "    </tr>\n",
       "    <tr>\n",
       "      <th>std</th>\n",
       "      <td>9.471309</td>\n",
       "      <td>253.441362</td>\n",
       "    </tr>\n",
       "    <tr>\n",
       "      <th>min</th>\n",
       "      <td>3.000000</td>\n",
       "      <td>33.000000</td>\n",
       "    </tr>\n",
       "    <tr>\n",
       "      <th>25%</th>\n",
       "      <td>12.000000</td>\n",
       "      <td>224.000000</td>\n",
       "    </tr>\n",
       "    <tr>\n",
       "      <th>50%</th>\n",
       "      <td>20.000000</td>\n",
       "      <td>380.000000</td>\n",
       "    </tr>\n",
       "    <tr>\n",
       "      <th>75%</th>\n",
       "      <td>28.000000</td>\n",
       "      <td>575.000000</td>\n",
       "    </tr>\n",
       "    <tr>\n",
       "      <th>max</th>\n",
       "      <td>35.000000</td>\n",
       "      <td>1155.000000</td>\n",
       "    </tr>\n",
       "  </tbody>\n",
       "</table>\n",
       "</div>"
      ],
      "text/plain": [
       "            Units        Sales\n",
       "count  911.000000  1000.000000\n",
       "mean    19.638858   427.254000\n",
       "std      9.471309   253.441362\n",
       "min      3.000000    33.000000\n",
       "25%     12.000000   224.000000\n",
       "50%     20.000000   380.000000\n",
       "75%     28.000000   575.000000\n",
       "max     35.000000  1155.000000"
      ]
     },
     "execution_count": 30,
     "metadata": {},
     "output_type": "execute_result"
    }
   ],
   "source": [
    "# Para estar seguros de la consistencia de los datos, es que debemos darle un vistaso \n",
    "# a las estadisticas basicas de nuestro dataframe.\n",
    "# Por ejemplo en este caso, le vamos a pedir que nos haga una descripcion \n",
    "# solamente de los datos numericos:\n",
    "df.describe(include=\"number\")\n",
    " "
   ]
  },
  {
   "cell_type": "code",
   "execution_count": 31,
   "metadata": {},
   "outputs": [],
   "source": [
    "# Aca entonces vemos las estadisticas basicas de las columnas numericas.\n",
    "# Count: Nos dice la cantidad de valores no nulos que hay en cada columna\n",
    "# Mean: Media. Promedio Aritmetico. La suma de todos los valores dividio la cantidad de valores.\n",
    "# std:\n",
    "# min: Nos da el valor minimo de cada columna \n",
    "# 25%:\n",
    "# 50%:\n",
    "# 75%:\n",
    "# max: Nos da el valor maximo de cada columna"
   ]
  },
  {
   "cell_type": "code",
   "execution_count": 32,
   "metadata": {},
   "outputs": [],
   "source": [
    "# Esto nos ayuda a tener un panorama de la consitencia de nuestro datos.\n",
    "# Por ejemplo, si yo tuviera una columna que fuera la estatura, y los datos de esa columna van desde 1.50 mts hasta los 2.70 mt,\n",
    "# nos dariamos cuenta a simple vista que la columna tiene datos incorrectos, inconsistentes.\n",
    "# Entonces, el rango en el que se mueven los datos, es mi principal imput, ya que tiene que tener sentido. \n",
    "# Si dejaramos este dato, una de las cosas que estariamos afectando son los promedios. "
   ]
  },
  {
   "cell_type": "code",
   "execution_count": 33,
   "metadata": {},
   "outputs": [
    {
     "data": {
      "text/html": [
       "<div>\n",
       "<style scoped>\n",
       "    .dataframe tbody tr th:only-of-type {\n",
       "        vertical-align: middle;\n",
       "    }\n",
       "\n",
       "    .dataframe tbody tr th {\n",
       "        vertical-align: top;\n",
       "    }\n",
       "\n",
       "    .dataframe thead th {\n",
       "        text-align: right;\n",
       "    }\n",
       "</style>\n",
       "<table border=\"1\" class=\"dataframe\">\n",
       "  <thead>\n",
       "    <tr style=\"text-align: right;\">\n",
       "      <th></th>\n",
       "      <th>Region</th>\n",
       "      <th>Type</th>\n",
       "    </tr>\n",
       "  </thead>\n",
       "  <tbody>\n",
       "    <tr>\n",
       "      <th>count</th>\n",
       "      <td>1000</td>\n",
       "      <td>1000</td>\n",
       "    </tr>\n",
       "    <tr>\n",
       "      <th>unique</th>\n",
       "      <td>4</td>\n",
       "      <td>3</td>\n",
       "    </tr>\n",
       "    <tr>\n",
       "      <th>top</th>\n",
       "      <td>East</td>\n",
       "      <td>Women's Clothing</td>\n",
       "    </tr>\n",
       "    <tr>\n",
       "      <th>freq</th>\n",
       "      <td>411</td>\n",
       "      <td>424</td>\n",
       "    </tr>\n",
       "  </tbody>\n",
       "</table>\n",
       "</div>"
      ],
      "text/plain": [
       "       Region              Type\n",
       "count    1000              1000\n",
       "unique      4                 3\n",
       "top      East  Women's Clothing\n",
       "freq      411               424"
      ]
     },
     "execution_count": 33,
     "metadata": {},
     "output_type": "execute_result"
    }
   ],
   "source": [
    "# Ahora haremos una descripcion de los datos no numericos, es decir de los \n",
    "# datos categoricos\n",
    "df.describe(include=\"category\")"
   ]
  },
  {
   "cell_type": "code",
   "execution_count": 34,
   "metadata": {},
   "outputs": [],
   "source": [
    "# Count: nos muestra la cantidad valores que hay en cada columna\n",
    "# unique: nos dice la cantidad de valores unicos de cada columna\n",
    "# top: nos dice el valor que aparece mas veces en cada columna. Para la columna Region, \"east\" es el valor que aparece mas veces.\n",
    "# freq: nos dice la cantidad de repeticiones con las que aparece el valor mas frecuente. en la columna Region, East es el valor que mas aparece con 411 repeticiones. \n",
    "# Con esto ya veriamos que la region East pesa un 40% aprox."
   ]
  },
  {
   "cell_type": "code",
   "execution_count": 35,
   "metadata": {},
   "outputs": [
    {
     "data": {
      "text/plain": [
       "np.int64(427254)"
      ]
     },
     "execution_count": 35,
     "metadata": {},
     "output_type": "execute_result"
    }
   ],
   "source": [
    "# Veamos ahora cuanto seria el total de las ventas en ese dataframe. \n",
    "# para lo cual voy a utilizar el metodo sum.\n",
    "suma = df[\"Sales\"].sum()\n",
    "suma"
   ]
  },
  {
   "cell_type": "markdown",
   "metadata": {},
   "source": [
    "####TIP: Los f sting, permiten combinar texto y variabes en una misma linea.\n",
    "\n",
    "####TIP: Las Mayusculas y Minusculas son muy importantes!"
   ]
  },
  {
   "cell_type": "code",
   "execution_count": 36,
   "metadata": {},
   "outputs": [
    {
     "name": "stdout",
     "output_type": "stream",
     "text": [
      "El total de las ventas del dataframe es: 427254\n"
     ]
    }
   ],
   "source": [
    "print(f\"El total de las ventas del dataframe es: {suma}\")"
   ]
  },
  {
   "cell_type": "code",
   "execution_count": 37,
   "metadata": {},
   "outputs": [
    {
     "name": "stdout",
     "output_type": "stream",
     "text": [
      "El total de las ventas del dataframe es: 427,254\n"
     ]
    }
   ],
   "source": [
    "# Para hacer el resultado mas legible, le agregamos separador de miles, (la coma sera el que usaremos por convencion), \n",
    "# colocando lo siguiente luego del nombre de mi variable.\n",
    "# :,\n",
    "print(f\"El total de las ventas del dataframe es: {suma:,}\")"
   ]
  },
  {
   "cell_type": "code",
   "execution_count": 38,
   "metadata": {},
   "outputs": [
    {
     "data": {
      "text/plain": [
       "np.float64(19.63885839736553)"
      ]
     },
     "execution_count": 38,
     "metadata": {},
     "output_type": "execute_result"
    }
   ],
   "source": [
    "# Ahora para ver el promedio total de las unidades, usariamos el metodo mean.\n",
    "promedio = df[\"Units\"].mean()\n",
    "promedio"
   ]
  },
  {
   "cell_type": "code",
   "execution_count": 39,
   "metadata": {},
   "outputs": [
    {
     "name": "stdout",
     "output_type": "stream",
     "text": [
      "El promedio total de las unidades vendidas en mi dataframe es: 19.63885839736553\n"
     ]
    }
   ],
   "source": [
    "# Ahora le agrego texto a mi resultado:\n",
    "print(f\"El promedio total de las unidades vendidas en mi dataframe es: {promedio}\")"
   ]
  },
  {
   "cell_type": "code",
   "execution_count": 40,
   "metadata": {},
   "outputs": [
    {
     "name": "stdout",
     "output_type": "stream",
     "text": [
      "El promedio total de las unidades vendidas en mi dataframe es: 19.64\n"
     ]
    }
   ],
   "source": [
    "# Para que el resultado sea mas legible, voy a dejar el promedio solo con dos decimales colocando lo siguiente luego del nombre de mi variable\n",
    "# :.2f\n",
    "# Esto me habilita solo dos lugares despues de la coma.\n",
    "print(f\"El promedio total de las unidades vendidas en mi dataframe es: {promedio:.2f}\")"
   ]
  },
  {
   "cell_type": "code",
   "execution_count": 41,
   "metadata": {},
   "outputs": [
    {
     "data": {
      "text/plain": [
       "Region\n",
       "East     167763\n",
       "North    138700\n",
       "South     59315\n",
       "West      61476\n",
       "Name: Sales, dtype: int64"
      ]
     },
     "execution_count": 41,
     "metadata": {},
     "output_type": "execute_result"
    }
   ],
   "source": [
    "# Ahora quiero saber la cantidad de ventas pero por Region. Asi que veremos METRICAS POR AGRUPAMIENTO.\n",
    "# Es importante saber, que cuando agregamos por variables categoricas, como region en este caso, podria pasar que uno de los valores no este, pero la categoria si existe, generando problemas.\n",
    "# Para evitar este problema, debemos colocar lo siguiente luego del nombre de mi categoria: ,observed=False\n",
    "df.groupby(\"Region\" ,observed=False)[\"Sales\"].sum()"
   ]
  },
  {
   "cell_type": "code",
   "execution_count": 42,
   "metadata": {},
   "outputs": [
    {
     "data": {
      "text/plain": [
       "Region\n",
       "East     19.732360\n",
       "North    19.202643\n",
       "South    20.423358\n",
       "West     19.294118\n",
       "Name: Units, dtype: float64"
      ]
     },
     "execution_count": 42,
     "metadata": {},
     "output_type": "execute_result"
    }
   ],
   "source": [
    "# Calculemos el PROMEDIO DE UNIDADES POR REGION:\n",
    "df.groupby(\"Region\" , observed=False)[\"Units\"].mean()"
   ]
  },
  {
   "cell_type": "code",
   "execution_count": 43,
   "metadata": {},
   "outputs": [
    {
     "data": {
      "text/html": [
       "<div>\n",
       "<style scoped>\n",
       "    .dataframe tbody tr th:only-of-type {\n",
       "        vertical-align: middle;\n",
       "    }\n",
       "\n",
       "    .dataframe tbody tr th {\n",
       "        vertical-align: top;\n",
       "    }\n",
       "\n",
       "    .dataframe thead th {\n",
       "        text-align: right;\n",
       "    }\n",
       "</style>\n",
       "<table border=\"1\" class=\"dataframe\">\n",
       "  <thead>\n",
       "    <tr style=\"text-align: right;\">\n",
       "      <th></th>\n",
       "      <th>min</th>\n",
       "      <th>max</th>\n",
       "      <th>mean</th>\n",
       "    </tr>\n",
       "    <tr>\n",
       "      <th>Region</th>\n",
       "      <th></th>\n",
       "      <th></th>\n",
       "      <th></th>\n",
       "    </tr>\n",
       "  </thead>\n",
       "  <tbody>\n",
       "    <tr>\n",
       "      <th>East</th>\n",
       "      <td>36</td>\n",
       "      <td>1122</td>\n",
       "      <td>408.182482</td>\n",
       "    </tr>\n",
       "    <tr>\n",
       "      <th>North</th>\n",
       "      <td>42</td>\n",
       "      <td>1155</td>\n",
       "      <td>438.924051</td>\n",
       "    </tr>\n",
       "    <tr>\n",
       "      <th>South</th>\n",
       "      <td>48</td>\n",
       "      <td>1122</td>\n",
       "      <td>432.956204</td>\n",
       "    </tr>\n",
       "    <tr>\n",
       "      <th>West</th>\n",
       "      <td>33</td>\n",
       "      <td>1023</td>\n",
       "      <td>452.029412</td>\n",
       "    </tr>\n",
       "  </tbody>\n",
       "</table>\n",
       "</div>"
      ],
      "text/plain": [
       "        min   max        mean\n",
       "Region                       \n",
       "East     36  1122  408.182482\n",
       "North    42  1155  438.924051\n",
       "South    48  1122  432.956204\n",
       "West     33  1023  452.029412"
      ]
     },
     "execution_count": 43,
     "metadata": {},
     "output_type": "execute_result"
    }
   ],
   "source": [
    "# Calculemos 3 AGREGACIONES: MEDIA, MAXIMO Y MINIMO: Usamos el metodo agg, y le damos como parametro los calculos que quiero hacer.\n",
    "df.groupby(\"Region\", observed=False)[\"Sales\"].agg({\"mean\", \"min\", \"max\"})"
   ]
  },
  {
   "cell_type": "code",
   "execution_count": 44,
   "metadata": {},
   "outputs": [
    {
     "data": {
      "text/html": [
       "<div>\n",
       "<style scoped>\n",
       "    .dataframe tbody tr th:only-of-type {\n",
       "        vertical-align: middle;\n",
       "    }\n",
       "\n",
       "    .dataframe tbody tr th {\n",
       "        vertical-align: top;\n",
       "    }\n",
       "\n",
       "    .dataframe thead th {\n",
       "        text-align: right;\n",
       "    }\n",
       "</style>\n",
       "<table border=\"1\" class=\"dataframe\">\n",
       "  <thead>\n",
       "    <tr style=\"text-align: right;\">\n",
       "      <th></th>\n",
       "      <th>Date</th>\n",
       "      <th>Region</th>\n",
       "      <th>Type</th>\n",
       "      <th>Units</th>\n",
       "      <th>Sales</th>\n",
       "    </tr>\n",
       "  </thead>\n",
       "  <tbody>\n",
       "    <tr>\n",
       "      <th>4</th>\n",
       "      <td>2020-03-19</td>\n",
       "      <td>West</td>\n",
       "      <td>Women's Clothing</td>\n",
       "      <td>3.0</td>\n",
       "      <td>33</td>\n",
       "    </tr>\n",
       "    <tr>\n",
       "      <th>15</th>\n",
       "      <td>2020-11-26</td>\n",
       "      <td>West</td>\n",
       "      <td>Men's Clothing</td>\n",
       "      <td>27.0</td>\n",
       "      <td>864</td>\n",
       "    </tr>\n",
       "    <tr>\n",
       "      <th>21</th>\n",
       "      <td>2020-06-23</td>\n",
       "      <td>West</td>\n",
       "      <td>Women's Clothing</td>\n",
       "      <td>18.0</td>\n",
       "      <td>288</td>\n",
       "    </tr>\n",
       "    <tr>\n",
       "      <th>24</th>\n",
       "      <td>2020-06-18</td>\n",
       "      <td>West</td>\n",
       "      <td>Men's Clothing</td>\n",
       "      <td>5.0</td>\n",
       "      <td>70</td>\n",
       "    </tr>\n",
       "    <tr>\n",
       "      <th>30</th>\n",
       "      <td>2020-07-13</td>\n",
       "      <td>West</td>\n",
       "      <td>Children's Clothing</td>\n",
       "      <td>30.0</td>\n",
       "      <td>450</td>\n",
       "    </tr>\n",
       "    <tr>\n",
       "      <th>...</th>\n",
       "      <td>...</td>\n",
       "      <td>...</td>\n",
       "      <td>...</td>\n",
       "      <td>...</td>\n",
       "      <td>...</td>\n",
       "    </tr>\n",
       "    <tr>\n",
       "      <th>969</th>\n",
       "      <td>2020-07-20</td>\n",
       "      <td>West</td>\n",
       "      <td>Women's Clothing</td>\n",
       "      <td>25.0</td>\n",
       "      <td>442</td>\n",
       "    </tr>\n",
       "    <tr>\n",
       "      <th>970</th>\n",
       "      <td>2020-11-28</td>\n",
       "      <td>West</td>\n",
       "      <td>Women's Clothing</td>\n",
       "      <td>12.0</td>\n",
       "      <td>770</td>\n",
       "    </tr>\n",
       "    <tr>\n",
       "      <th>972</th>\n",
       "      <td>2020-09-21</td>\n",
       "      <td>West</td>\n",
       "      <td>Men's Clothing</td>\n",
       "      <td>35.0</td>\n",
       "      <td>437</td>\n",
       "    </tr>\n",
       "    <tr>\n",
       "      <th>985</th>\n",
       "      <td>2020-02-08</td>\n",
       "      <td>West</td>\n",
       "      <td>Men's Clothing</td>\n",
       "      <td>32.0</td>\n",
       "      <td>928</td>\n",
       "    </tr>\n",
       "    <tr>\n",
       "      <th>991</th>\n",
       "      <td>2020-11-17</td>\n",
       "      <td>West</td>\n",
       "      <td>Men's Clothing</td>\n",
       "      <td>27.0</td>\n",
       "      <td>486</td>\n",
       "    </tr>\n",
       "  </tbody>\n",
       "</table>\n",
       "<p>136 rows × 5 columns</p>\n",
       "</div>"
      ],
      "text/plain": [
       "          Date Region                 Type  Units  Sales\n",
       "4   2020-03-19   West     Women's Clothing    3.0     33\n",
       "15  2020-11-26   West       Men's Clothing   27.0    864\n",
       "21  2020-06-23   West     Women's Clothing   18.0    288\n",
       "24  2020-06-18   West       Men's Clothing    5.0     70\n",
       "30  2020-07-13   West  Children's Clothing   30.0    450\n",
       "..         ...    ...                  ...    ...    ...\n",
       "969 2020-07-20   West     Women's Clothing   25.0    442\n",
       "970 2020-11-28   West     Women's Clothing   12.0    770\n",
       "972 2020-09-21   West       Men's Clothing   35.0    437\n",
       "985 2020-02-08   West       Men's Clothing   32.0    928\n",
       "991 2020-11-17   West       Men's Clothing   27.0    486\n",
       "\n",
       "[136 rows x 5 columns]"
      ]
     },
     "execution_count": 44,
     "metadata": {},
     "output_type": "execute_result"
    }
   ],
   "source": [
    "# AHORA QUIERO SACAR UNA MUESTRA DE DATOS DE UNA REGION EN PARTICULAR. PARA ESTO APLICAREMOS FILTROS:\n",
    "df[df[\"Region\"]==\"West\"]"
   ]
  },
  {
   "cell_type": "code",
   "execution_count": 45,
   "metadata": {},
   "outputs": [
    {
     "data": {
      "text/plain": [
       "(          Date Region            Type  Units  Sales\n",
       " 12  2020-05-01   East  Men's Clothing   10.0    140\n",
       " 14  2020-01-07   East  Men's Clothing   30.0    360\n",
       " 26  2020-02-01   East  Men's Clothing   21.0    420\n",
       " 28  2020-01-19   East  Men's Clothing    3.0     63\n",
       " 34  2020-11-04   East  Men's Clothing   19.0    475\n",
       " ..         ...    ...             ...    ...    ...\n",
       " 962 2020-08-13   East  Men's Clothing   32.0    132\n",
       " 973 2020-10-04   East  Men's Clothing   35.0    350\n",
       " 977 2020-10-20   East  Men's Clothing   32.0    928\n",
       " 980 2020-03-20   East  Men's Clothing   14.0    238\n",
       " 989 2020-05-04   East  Men's Clothing    6.0    108\n",
       " \n",
       " [122 rows x 5 columns],)"
      ]
     },
     "execution_count": 45,
     "metadata": {},
     "output_type": "execute_result"
    }
   ],
   "source": [
    "# AHORA QUIERO VER UNA MUESTRA DE DATOS DE LA REGION ESTE, PERO QUE SOLO SEA ROPA DE HOMBRE: FILTRO X DOS CONDICIONES\n",
    "# Sintaxis: df[ (1er Condicion) & (2da Condicion) ], donde el & representa el and\n",
    "df[(df[\"Region\"]==\"East\") & (df[\"Type\"]==\"Men's Clothing\") ],"
   ]
  },
  {
   "cell_type": "code",
   "execution_count": 46,
   "metadata": {},
   "outputs": [
    {
     "data": {
      "text/plain": [
       "(          Date Region                 Type  Units  Sales\n",
       " 0   2020-07-11   East  Children's Clothing   18.0    306\n",
       " 3   2020-02-28   East  Children's Clothing   26.0    832\n",
       " 4   2020-03-19   West     Women's Clothing    3.0     33\n",
       " 7   2020-03-25   East     Women's Clothing   29.0    609\n",
       " 9   2020-11-03   East  Children's Clothing   34.0    374\n",
       " ..         ...    ...                  ...    ...    ...\n",
       " 985 2020-02-08   West       Men's Clothing   32.0    928\n",
       " 989 2020-05-04   East       Men's Clothing    6.0    108\n",
       " 991 2020-11-17   West       Men's Clothing   27.0    486\n",
       " 994 2020-10-18   East     Women's Clothing   19.0    399\n",
       " 995 2020-02-11   East  Children's Clothing   35.0    735\n",
       " \n",
       " [547 rows x 5 columns],)"
      ]
     },
     "execution_count": 46,
     "metadata": {},
     "output_type": "execute_result"
    }
   ],
   "source": [
    "# AHORA QUIERO VER UNA MUESTRA DE LA REGION ESTE O NORTE. Pare esto debo filtrar usando el operador | que representa el OR\n",
    "# Sintaxis: df[ (Condicion 1) | (Condicion 2) ]\n",
    "df[(df[\"Region\"]==\"East\") | (df[\"Region\"]==\"West\") ],"
   ]
  },
  {
   "cell_type": "code",
   "execution_count": 47,
   "metadata": {},
   "outputs": [
    {
     "data": {
      "text/html": [
       "<div>\n",
       "<style scoped>\n",
       "    .dataframe tbody tr th:only-of-type {\n",
       "        vertical-align: middle;\n",
       "    }\n",
       "\n",
       "    .dataframe tbody tr th {\n",
       "        vertical-align: top;\n",
       "    }\n",
       "\n",
       "    .dataframe thead th {\n",
       "        text-align: right;\n",
       "    }\n",
       "</style>\n",
       "<table border=\"1\" class=\"dataframe\">\n",
       "  <thead>\n",
       "    <tr style=\"text-align: right;\">\n",
       "      <th></th>\n",
       "      <th>Date</th>\n",
       "      <th>Region</th>\n",
       "      <th>Type</th>\n",
       "      <th>Units</th>\n",
       "      <th>Sales</th>\n",
       "    </tr>\n",
       "  </thead>\n",
       "  <tbody>\n",
       "    <tr>\n",
       "      <th>0</th>\n",
       "      <td>2020-07-11</td>\n",
       "      <td>East</td>\n",
       "      <td>Children's Clothing</td>\n",
       "      <td>18.0</td>\n",
       "      <td>306</td>\n",
       "    </tr>\n",
       "    <tr>\n",
       "      <th>1</th>\n",
       "      <td>2020-09-23</td>\n",
       "      <td>North</td>\n",
       "      <td>Children's Clothing</td>\n",
       "      <td>14.0</td>\n",
       "      <td>448</td>\n",
       "    </tr>\n",
       "    <tr>\n",
       "      <th>2</th>\n",
       "      <td>2020-04-02</td>\n",
       "      <td>South</td>\n",
       "      <td>Women's Clothing</td>\n",
       "      <td>17.0</td>\n",
       "      <td>425</td>\n",
       "    </tr>\n",
       "    <tr>\n",
       "      <th>3</th>\n",
       "      <td>2020-02-28</td>\n",
       "      <td>East</td>\n",
       "      <td>Children's Clothing</td>\n",
       "      <td>26.0</td>\n",
       "      <td>832</td>\n",
       "    </tr>\n",
       "    <tr>\n",
       "      <th>4</th>\n",
       "      <td>2020-03-19</td>\n",
       "      <td>West</td>\n",
       "      <td>Women's Clothing</td>\n",
       "      <td>3.0</td>\n",
       "      <td>33</td>\n",
       "    </tr>\n",
       "    <tr>\n",
       "      <th>...</th>\n",
       "      <td>...</td>\n",
       "      <td>...</td>\n",
       "      <td>...</td>\n",
       "      <td>...</td>\n",
       "      <td>...</td>\n",
       "    </tr>\n",
       "    <tr>\n",
       "      <th>995</th>\n",
       "      <td>2020-02-11</td>\n",
       "      <td>East</td>\n",
       "      <td>Children's Clothing</td>\n",
       "      <td>35.0</td>\n",
       "      <td>735</td>\n",
       "    </tr>\n",
       "    <tr>\n",
       "      <th>996</th>\n",
       "      <td>2020-12-25</td>\n",
       "      <td>North</td>\n",
       "      <td>Men's Clothing</td>\n",
       "      <td>NaN</td>\n",
       "      <td>1155</td>\n",
       "    </tr>\n",
       "    <tr>\n",
       "      <th>997</th>\n",
       "      <td>2020-08-31</td>\n",
       "      <td>South</td>\n",
       "      <td>Men's Clothing</td>\n",
       "      <td>13.0</td>\n",
       "      <td>208</td>\n",
       "    </tr>\n",
       "    <tr>\n",
       "      <th>998</th>\n",
       "      <td>2020-08-23</td>\n",
       "      <td>South</td>\n",
       "      <td>Women's Clothing</td>\n",
       "      <td>17.0</td>\n",
       "      <td>493</td>\n",
       "    </tr>\n",
       "    <tr>\n",
       "      <th>999</th>\n",
       "      <td>2020-08-17</td>\n",
       "      <td>North</td>\n",
       "      <td>Women's Clothing</td>\n",
       "      <td>25.0</td>\n",
       "      <td>300</td>\n",
       "    </tr>\n",
       "  </tbody>\n",
       "</table>\n",
       "<p>1000 rows × 5 columns</p>\n",
       "</div>"
      ],
      "text/plain": [
       "          Date Region                 Type  Units  Sales\n",
       "0   2020-07-11   East  Children's Clothing   18.0    306\n",
       "1   2020-09-23  North  Children's Clothing   14.0    448\n",
       "2   2020-04-02  South     Women's Clothing   17.0    425\n",
       "3   2020-02-28   East  Children's Clothing   26.0    832\n",
       "4   2020-03-19   West     Women's Clothing    3.0     33\n",
       "..         ...    ...                  ...    ...    ...\n",
       "995 2020-02-11   East  Children's Clothing   35.0    735\n",
       "996 2020-12-25  North       Men's Clothing    NaN   1155\n",
       "997 2020-08-31  South       Men's Clothing   13.0    208\n",
       "998 2020-08-23  South     Women's Clothing   17.0    493\n",
       "999 2020-08-17  North     Women's Clothing   25.0    300\n",
       "\n",
       "[1000 rows x 5 columns]"
      ]
     },
     "execution_count": 47,
     "metadata": {},
     "output_type": "execute_result"
    }
   ],
   "source": [
    "# AHORA, NECESITO AGREGARLE UNA UNIDAD A TODOS LOS VALORES DE LAS UNIDADES, YA QUE POR ERROR LOS VALORES ESTAN UNA UNIDAD ABAJO.\n",
    "# PAra recordar los valores de las unidades imprimo mi dataframe\n",
    "df"
   ]
  },
  {
   "cell_type": "code",
   "execution_count": 48,
   "metadata": {},
   "outputs": [
    {
     "data": {
      "text/html": [
       "<div>\n",
       "<style scoped>\n",
       "    .dataframe tbody tr th:only-of-type {\n",
       "        vertical-align: middle;\n",
       "    }\n",
       "\n",
       "    .dataframe tbody tr th {\n",
       "        vertical-align: top;\n",
       "    }\n",
       "\n",
       "    .dataframe thead th {\n",
       "        text-align: right;\n",
       "    }\n",
       "</style>\n",
       "<table border=\"1\" class=\"dataframe\">\n",
       "  <thead>\n",
       "    <tr style=\"text-align: right;\">\n",
       "      <th></th>\n",
       "      <th>Date</th>\n",
       "      <th>Region</th>\n",
       "      <th>Type</th>\n",
       "      <th>Units</th>\n",
       "      <th>Sales</th>\n",
       "    </tr>\n",
       "  </thead>\n",
       "  <tbody>\n",
       "    <tr>\n",
       "      <th>0</th>\n",
       "      <td>2020-07-11</td>\n",
       "      <td>East</td>\n",
       "      <td>Children's Clothing</td>\n",
       "      <td>19.0</td>\n",
       "      <td>306</td>\n",
       "    </tr>\n",
       "    <tr>\n",
       "      <th>1</th>\n",
       "      <td>2020-09-23</td>\n",
       "      <td>North</td>\n",
       "      <td>Children's Clothing</td>\n",
       "      <td>15.0</td>\n",
       "      <td>448</td>\n",
       "    </tr>\n",
       "    <tr>\n",
       "      <th>2</th>\n",
       "      <td>2020-04-02</td>\n",
       "      <td>South</td>\n",
       "      <td>Women's Clothing</td>\n",
       "      <td>18.0</td>\n",
       "      <td>425</td>\n",
       "    </tr>\n",
       "    <tr>\n",
       "      <th>3</th>\n",
       "      <td>2020-02-28</td>\n",
       "      <td>East</td>\n",
       "      <td>Children's Clothing</td>\n",
       "      <td>27.0</td>\n",
       "      <td>832</td>\n",
       "    </tr>\n",
       "    <tr>\n",
       "      <th>4</th>\n",
       "      <td>2020-03-19</td>\n",
       "      <td>West</td>\n",
       "      <td>Women's Clothing</td>\n",
       "      <td>4.0</td>\n",
       "      <td>33</td>\n",
       "    </tr>\n",
       "    <tr>\n",
       "      <th>...</th>\n",
       "      <td>...</td>\n",
       "      <td>...</td>\n",
       "      <td>...</td>\n",
       "      <td>...</td>\n",
       "      <td>...</td>\n",
       "    </tr>\n",
       "    <tr>\n",
       "      <th>995</th>\n",
       "      <td>2020-02-11</td>\n",
       "      <td>East</td>\n",
       "      <td>Children's Clothing</td>\n",
       "      <td>36.0</td>\n",
       "      <td>735</td>\n",
       "    </tr>\n",
       "    <tr>\n",
       "      <th>996</th>\n",
       "      <td>2020-12-25</td>\n",
       "      <td>North</td>\n",
       "      <td>Men's Clothing</td>\n",
       "      <td>NaN</td>\n",
       "      <td>1155</td>\n",
       "    </tr>\n",
       "    <tr>\n",
       "      <th>997</th>\n",
       "      <td>2020-08-31</td>\n",
       "      <td>South</td>\n",
       "      <td>Men's Clothing</td>\n",
       "      <td>14.0</td>\n",
       "      <td>208</td>\n",
       "    </tr>\n",
       "    <tr>\n",
       "      <th>998</th>\n",
       "      <td>2020-08-23</td>\n",
       "      <td>South</td>\n",
       "      <td>Women's Clothing</td>\n",
       "      <td>18.0</td>\n",
       "      <td>493</td>\n",
       "    </tr>\n",
       "    <tr>\n",
       "      <th>999</th>\n",
       "      <td>2020-08-17</td>\n",
       "      <td>North</td>\n",
       "      <td>Women's Clothing</td>\n",
       "      <td>26.0</td>\n",
       "      <td>300</td>\n",
       "    </tr>\n",
       "  </tbody>\n",
       "</table>\n",
       "<p>1000 rows × 5 columns</p>\n",
       "</div>"
      ],
      "text/plain": [
       "          Date Region                 Type  Units  Sales\n",
       "0   2020-07-11   East  Children's Clothing   19.0    306\n",
       "1   2020-09-23  North  Children's Clothing   15.0    448\n",
       "2   2020-04-02  South     Women's Clothing   18.0    425\n",
       "3   2020-02-28   East  Children's Clothing   27.0    832\n",
       "4   2020-03-19   West     Women's Clothing    4.0     33\n",
       "..         ...    ...                  ...    ...    ...\n",
       "995 2020-02-11   East  Children's Clothing   36.0    735\n",
       "996 2020-12-25  North       Men's Clothing    NaN   1155\n",
       "997 2020-08-31  South       Men's Clothing   14.0    208\n",
       "998 2020-08-23  South     Women's Clothing   18.0    493\n",
       "999 2020-08-17  North     Women's Clothing   26.0    300\n",
       "\n",
       "[1000 rows x 5 columns]"
      ]
     },
     "execution_count": 48,
     "metadata": {},
     "output_type": "execute_result"
    }
   ],
   "source": [
    "# Ahora si le sumo uno\n",
    "# Observacion: Si yo a un NaN le agrego uno, no cambia nada. Solo se afectan los valores numericos.\n",
    "df[\"Units\"] = df[\"Units\"] + 1\n",
    "df"
   ]
  },
  {
   "cell_type": "code",
   "execution_count": 49,
   "metadata": {},
   "outputs": [
    {
     "data": {
      "text/html": [
       "<div>\n",
       "<style scoped>\n",
       "    .dataframe tbody tr th:only-of-type {\n",
       "        vertical-align: middle;\n",
       "    }\n",
       "\n",
       "    .dataframe tbody tr th {\n",
       "        vertical-align: top;\n",
       "    }\n",
       "\n",
       "    .dataframe thead th {\n",
       "        text-align: right;\n",
       "    }\n",
       "</style>\n",
       "<table border=\"1\" class=\"dataframe\">\n",
       "  <thead>\n",
       "    <tr style=\"text-align: right;\">\n",
       "      <th></th>\n",
       "      <th>Date</th>\n",
       "      <th>Region</th>\n",
       "      <th>Type</th>\n",
       "      <th>Units</th>\n",
       "      <th>Sales</th>\n",
       "    </tr>\n",
       "  </thead>\n",
       "  <tbody>\n",
       "    <tr>\n",
       "      <th>0</th>\n",
       "      <td>2020-07-11</td>\n",
       "      <td>East</td>\n",
       "      <td>Children's Clothing</td>\n",
       "      <td>19.0</td>\n",
       "      <td>305</td>\n",
       "    </tr>\n",
       "    <tr>\n",
       "      <th>1</th>\n",
       "      <td>2020-09-23</td>\n",
       "      <td>North</td>\n",
       "      <td>Children's Clothing</td>\n",
       "      <td>15.0</td>\n",
       "      <td>448</td>\n",
       "    </tr>\n",
       "    <tr>\n",
       "      <th>2</th>\n",
       "      <td>2020-04-02</td>\n",
       "      <td>South</td>\n",
       "      <td>Women's Clothing</td>\n",
       "      <td>18.0</td>\n",
       "      <td>425</td>\n",
       "    </tr>\n",
       "    <tr>\n",
       "      <th>3</th>\n",
       "      <td>2020-02-28</td>\n",
       "      <td>East</td>\n",
       "      <td>Children's Clothing</td>\n",
       "      <td>27.0</td>\n",
       "      <td>831</td>\n",
       "    </tr>\n",
       "    <tr>\n",
       "      <th>4</th>\n",
       "      <td>2020-03-19</td>\n",
       "      <td>West</td>\n",
       "      <td>Women's Clothing</td>\n",
       "      <td>4.0</td>\n",
       "      <td>33</td>\n",
       "    </tr>\n",
       "    <tr>\n",
       "      <th>...</th>\n",
       "      <td>...</td>\n",
       "      <td>...</td>\n",
       "      <td>...</td>\n",
       "      <td>...</td>\n",
       "      <td>...</td>\n",
       "    </tr>\n",
       "    <tr>\n",
       "      <th>995</th>\n",
       "      <td>2020-02-11</td>\n",
       "      <td>East</td>\n",
       "      <td>Children's Clothing</td>\n",
       "      <td>36.0</td>\n",
       "      <td>734</td>\n",
       "    </tr>\n",
       "    <tr>\n",
       "      <th>996</th>\n",
       "      <td>2020-12-25</td>\n",
       "      <td>North</td>\n",
       "      <td>Men's Clothing</td>\n",
       "      <td>NaN</td>\n",
       "      <td>1155</td>\n",
       "    </tr>\n",
       "    <tr>\n",
       "      <th>997</th>\n",
       "      <td>2020-08-31</td>\n",
       "      <td>South</td>\n",
       "      <td>Men's Clothing</td>\n",
       "      <td>14.0</td>\n",
       "      <td>208</td>\n",
       "    </tr>\n",
       "    <tr>\n",
       "      <th>998</th>\n",
       "      <td>2020-08-23</td>\n",
       "      <td>South</td>\n",
       "      <td>Women's Clothing</td>\n",
       "      <td>18.0</td>\n",
       "      <td>493</td>\n",
       "    </tr>\n",
       "    <tr>\n",
       "      <th>999</th>\n",
       "      <td>2020-08-17</td>\n",
       "      <td>North</td>\n",
       "      <td>Women's Clothing</td>\n",
       "      <td>26.0</td>\n",
       "      <td>300</td>\n",
       "    </tr>\n",
       "  </tbody>\n",
       "</table>\n",
       "<p>1000 rows × 5 columns</p>\n",
       "</div>"
      ],
      "text/plain": [
       "          Date Region                 Type  Units  Sales\n",
       "0   2020-07-11   East  Children's Clothing   19.0    305\n",
       "1   2020-09-23  North  Children's Clothing   15.0    448\n",
       "2   2020-04-02  South     Women's Clothing   18.0    425\n",
       "3   2020-02-28   East  Children's Clothing   27.0    831\n",
       "4   2020-03-19   West     Women's Clothing    4.0     33\n",
       "..         ...    ...                  ...    ...    ...\n",
       "995 2020-02-11   East  Children's Clothing   36.0    734\n",
       "996 2020-12-25  North       Men's Clothing    NaN   1155\n",
       "997 2020-08-31  South       Men's Clothing   14.0    208\n",
       "998 2020-08-23  South     Women's Clothing   18.0    493\n",
       "999 2020-08-17  North     Women's Clothing   26.0    300\n",
       "\n",
       "[1000 rows x 5 columns]"
      ]
     },
     "execution_count": 49,
     "metadata": {},
     "output_type": "execute_result"
    }
   ],
   "source": [
    "# Ahora nos avisan que a todas las ventas de la region este, hay que restarles 1\n",
    "# para esto debemos aplicar un FILTRO DE ASIGNACION\n",
    "# Para ello debemos usar df.loc, donde loc en este caso quiere decir localizar\n",
    "# Sintaxis: df.loc[fila,columna] loc se ubicara por fila y columna. por eso no lleva parentesis. es un index.\n",
    "\n",
    "df.loc[ df[\"Region\"]==\"East\", \"Sales\"] -= 1 \n",
    "df\n",
    "# Entonces, primero hice el filtro, y para la columna aplique el auto resto (-=)\n",
    "# En este caso se esta ubicando por Filas de region este y tomando solo la columna Sales.\n",
    "\n",
    "# RECORDAR!!!: Cuando debo modificar solo una parte del dataframe, siempre debo usar df.loc"
   ]
  },
  {
   "cell_type": "code",
   "execution_count": null,
   "metadata": {},
   "outputs": [],
   "source": []
  }
 ],
 "metadata": {
  "kernelspec": {
   "display_name": ".venv",
   "language": "python",
   "name": "python3"
  },
  "language_info": {
   "codemirror_mode": {
    "name": "ipython",
    "version": 3
   },
   "file_extension": ".py",
   "mimetype": "text/x-python",
   "name": "python",
   "nbconvert_exporter": "python",
   "pygments_lexer": "ipython3",
   "version": "3.12.1"
  }
 },
 "nbformat": 4,
 "nbformat_minor": 2
}
