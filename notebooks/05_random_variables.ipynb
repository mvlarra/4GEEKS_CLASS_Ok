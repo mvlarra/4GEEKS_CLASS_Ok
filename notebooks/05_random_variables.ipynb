{
 "cells": [
  {
   "cell_type": "code",
   "execution_count": 2,
   "metadata": {},
   "outputs": [],
   "source": [
    "# Traigo las librerias que necesito\n",
    "import numpy as np\n",
    "import matplotlib.pyplot as plt\n",
    "import pandas as pd\n",
    "import random"
   ]
  },
  {
   "cell_type": "code",
   "execution_count": 7,
   "metadata": {},
   "outputs": [
    {
     "name": "stdout",
     "output_type": "stream",
     "text": [
      "['Rojo', 'Rojo', 'Rojo', 'Rojo', 'Rojo', 'Rojo', 'Rojo', 'Rojo', 'Rojo', 'Rojo', 'Rojo', 'Rojo', 'Rojo', 'Rojo', 'Rojo', 'Rojo', 'Rojo', 'Rojo', 'Negro', 'Negro', 'Negro', 'Negro', 'Negro', 'Negro', 'Negro', 'Negro', 'Negro', 'Negro', 'Negro', 'Negro', 'Negro', 'Negro', 'Negro', 'Negro', 'Negro', 'Negro', 'Verde', 'Verde']\n"
     ]
    }
   ],
   "source": [
    "# Ejemplo para ver como funciona una RANDOM VARIABLE:\n",
    "# Hay una ruleta en un casino. La ruleta tiene 18 espacios rojos, 18 espacios negros, y 2 espacios verdes.\n",
    "# al girar la ruleta, si sale rojo, el apostador gana $ 1 USD. Caso contrario (sale negro o verde), el apostador pierde $ 1 USD.\n",
    "# Desde la vista del casino, si sale rojo el casino pierde $ 1 USD. Caso contrario (sale negro o verde), el casino gana $ 1 USD.\n",
    "# Trabajaremos desde el punto de vista del CASINO.\n",
    "\n",
    "ruleta = list([\"Rojo\"]*18 + [\"Negro\"]*18 + [\"Verde\"]*2) # Esto es lo mismo que listar Rojo 18 Veces, Negro 18 Veces, y Verde 2 veces.\n",
    "print (ruleta)"
   ]
  },
  {
   "cell_type": "code",
   "execution_count": 14,
   "metadata": {},
   "outputs": [
    {
     "name": "stdout",
     "output_type": "stream",
     "text": [
      "['Negro', 'Rojo', 'Rojo', 'Negro', 'Negro', 'Negro', 'Rojo', 'Negro', 'Negro', 'Negro', 'Rojo', 'Negro', 'Rojo', 'Negro', 'Negro', 'Negro', 'Negro', 'Negro', 'Rojo', 'Rojo', 'Rojo', 'Negro', 'Negro', 'Negro', 'Rojo', 'Negro', 'Rojo', 'Rojo', 'Negro', 'Negro', 'Rojo', 'Rojo', 'Negro', 'Negro', 'Rojo', 'Negro', 'Rojo', 'Rojo', 'Rojo', 'Rojo', 'Rojo', 'Negro', 'Negro', 'Rojo', 'Rojo', 'Rojo', 'Negro', 'Negro', 'Negro', 'Negro', 'Negro', 'Negro', 'Rojo', 'Negro', 'Negro', 'Rojo', 'Verde', 'Negro', 'Rojo', 'Negro', 'Negro', 'Negro', 'Rojo', 'Rojo', 'Negro', 'Rojo', 'Negro', 'Negro', 'Negro', 'Rojo', 'Rojo', 'Negro', 'Rojo', 'Rojo', 'Rojo', 'Negro', 'Rojo', 'Rojo', 'Negro', 'Rojo', 'Negro', 'Rojo', 'Rojo', 'Negro', 'Negro', 'Rojo', 'Negro', 'Negro', 'Rojo', 'Rojo', 'Rojo', 'Rojo', 'Negro', 'Negro', 'Rojo', 'Negro', 'Negro', 'Rojo', 'Negro', 'Negro', 'Negro', 'Negro', 'Negro', 'Rojo', 'Negro', 'Rojo', 'Negro', 'Negro', 'Rojo', 'Negro', 'Negro', 'Negro', 'Negro', 'Negro', 'Rojo', 'Rojo', 'Rojo', 'Negro', 'Rojo', 'Negro', 'Rojo', 'Verde', 'Rojo', 'Rojo', 'Negro', 'Negro', 'Rojo', 'Rojo', 'Rojo', 'Negro', 'Rojo', 'Negro', 'Negro', 'Rojo', 'Rojo', 'Negro', 'Negro', 'Negro', 'Negro', 'Rojo', 'Rojo', 'Negro', 'Negro', 'Rojo', 'Negro', 'Rojo', 'Negro', 'Negro', 'Rojo', 'Rojo', 'Negro', 'Negro', 'Negro', 'Negro', 'Negro', 'Negro', 'Rojo', 'Negro', 'Negro', 'Negro', 'Negro', 'Negro', 'Negro', 'Rojo', 'Negro', 'Negro', 'Negro', 'Rojo', 'Rojo', 'Rojo', 'Negro', 'Negro', 'Negro', 'Negro', 'Rojo', 'Rojo', 'Negro', 'Negro', 'Rojo', 'Rojo', 'Rojo', 'Negro', 'Verde', 'Rojo', 'Negro', 'Negro', 'Negro', 'Rojo', 'Rojo', 'Negro', 'Negro', 'Rojo', 'Rojo', 'Negro', 'Rojo', 'Negro', 'Negro', 'Rojo', 'Negro', 'Rojo', 'Negro', 'Rojo', 'Negro', 'Rojo', 'Rojo', 'Rojo', 'Negro', 'Rojo', 'Rojo', 'Negro', 'Negro', 'Negro', 'Negro', 'Negro', 'Rojo', 'Verde', 'Negro', 'Rojo', 'Negro', 'Verde', 'Rojo', 'Negro', 'Negro', 'Negro', 'Negro', 'Negro', 'Negro', 'Rojo', 'Negro', 'Negro', 'Rojo', 'Negro', 'Rojo', 'Negro', 'Negro', 'Negro', 'Rojo', 'Rojo', 'Negro', 'Rojo', 'Negro', 'Rojo', 'Negro', 'Negro', 'Negro', 'Negro', 'Rojo', 'Negro', 'Rojo', 'Rojo', 'Verde', 'Rojo', 'Negro', 'Negro', 'Rojo', 'Rojo', 'Negro', 'Rojo', 'Rojo', 'Negro', 'Rojo', 'Rojo', 'Rojo', 'Rojo', 'Rojo', 'Rojo', 'Negro', 'Rojo', 'Rojo', 'Rojo', 'Rojo', 'Negro', 'Negro', 'Negro', 'Rojo', 'Verde', 'Rojo', 'Rojo', 'Rojo', 'Rojo', 'Negro', 'Rojo', 'Rojo', 'Negro', 'Negro', 'Negro', 'Rojo', 'Rojo', 'Rojo', 'Rojo', 'Rojo', 'Rojo', 'Rojo', 'Rojo', 'Negro', 'Rojo', 'Rojo', 'Rojo', 'Rojo', 'Rojo', 'Rojo', 'Negro', 'Rojo', 'Rojo', 'Negro', 'Rojo', 'Negro', 'Rojo', 'Rojo', 'Rojo', 'Negro', 'Negro', 'Rojo', 'Rojo', 'Rojo', 'Negro', 'Rojo', 'Rojo', 'Rojo', 'Rojo', 'Negro', 'Negro', 'Negro', 'Verde', 'Negro', 'Negro', 'Negro', 'Negro', 'Rojo', 'Negro', 'Verde', 'Rojo', 'Rojo', 'Rojo', 'Negro', 'Rojo', 'Rojo', 'Rojo', 'Rojo', 'Negro', 'Rojo', 'Rojo', 'Negro', 'Verde', 'Negro', 'Rojo', 'Rojo', 'Negro', 'Rojo', 'Negro', 'Negro', 'Negro', 'Rojo', 'Verde', 'Rojo', 'Negro', 'Negro', 'Negro', 'Rojo', 'Negro', 'Rojo', 'Rojo', 'Rojo', 'Negro', 'Rojo', 'Negro', 'Negro', 'Rojo', 'Rojo', 'Rojo', 'Negro', 'Negro', 'Negro', 'Rojo', 'Rojo', 'Rojo', 'Negro', 'Negro', 'Negro', 'Negro', 'Negro', 'Negro', 'Negro', 'Negro', 'Verde', 'Negro', 'Negro', 'Rojo', 'Negro', 'Negro', 'Rojo', 'Rojo', 'Negro', 'Negro', 'Negro', 'Negro', 'Negro', 'Negro', 'Rojo', 'Negro', 'Negro', 'Rojo', 'Negro', 'Negro', 'Rojo', 'Rojo', 'Negro', 'Negro', 'Rojo', 'Rojo', 'Negro', 'Rojo', 'Negro', 'Negro', 'Negro', 'Rojo', 'Negro', 'Negro', 'Negro', 'Rojo', 'Rojo', 'Negro', 'Negro', 'Negro', 'Negro', 'Verde', 'Rojo', 'Rojo', 'Rojo', 'Negro', 'Rojo', 'Negro', 'Negro', 'Negro', 'Rojo', 'Negro', 'Negro', 'Rojo', 'Verde', 'Negro', 'Rojo', 'Negro', 'Rojo', 'Rojo', 'Rojo', 'Rojo', 'Rojo', 'Negro', 'Negro', 'Rojo', 'Rojo', 'Rojo', 'Rojo', 'Negro', 'Rojo', 'Negro', 'Rojo', 'Negro', 'Negro', 'Rojo', 'Negro', 'Negro', 'Negro', 'Rojo', 'Negro', 'Negro', 'Negro', 'Negro', 'Rojo', 'Negro', 'Rojo', 'Rojo', 'Rojo', 'Rojo', 'Rojo', 'Rojo', 'Rojo', 'Rojo', 'Negro', 'Rojo', 'Rojo', 'Rojo', 'Negro', 'Rojo', 'Negro', 'Rojo', 'Rojo', 'Rojo', 'Negro', 'Negro', 'Negro', 'Negro', 'Negro', 'Negro', 'Rojo', 'Negro', 'Negro', 'Rojo', 'Rojo', 'Negro', 'Rojo', 'Negro', 'Verde', 'Rojo', 'Rojo', 'Negro', 'Rojo', 'Negro', 'Rojo', 'Rojo', 'Rojo', 'Negro', 'Rojo', 'Verde', 'Rojo', 'Rojo', 'Rojo', 'Negro', 'Rojo', 'Negro', 'Negro', 'Rojo', 'Rojo', 'Negro', 'Negro', 'Rojo', 'Negro', 'Rojo', 'Rojo', 'Rojo', 'Negro', 'Rojo', 'Negro', 'Negro', 'Rojo', 'Rojo', 'Rojo', 'Rojo', 'Verde', 'Rojo', 'Verde', 'Rojo', 'Negro', 'Rojo', 'Rojo', 'Negro', 'Rojo', 'Negro', 'Rojo', 'Negro', 'Rojo', 'Verde', 'Rojo', 'Rojo', 'Rojo', 'Negro', 'Rojo', 'Rojo', 'Negro', 'Rojo', 'Negro', 'Negro', 'Negro', 'Negro', 'Negro', 'Negro', 'Negro', 'Rojo', 'Rojo', 'Negro', 'Negro', 'Rojo', 'Rojo', 'Negro', 'Rojo', 'Negro', 'Rojo', 'Verde', 'Negro', 'Rojo', 'Negro', 'Rojo', 'Rojo', 'Negro', 'Rojo', 'Rojo', 'Negro', 'Negro', 'Rojo', 'Negro', 'Negro', 'Rojo', 'Rojo', 'Negro', 'Rojo', 'Rojo', 'Negro', 'Rojo', 'Rojo', 'Rojo', 'Negro', 'Negro', 'Rojo', 'Negro', 'Rojo', 'Rojo', 'Verde', 'Rojo', 'Negro', 'Rojo', 'Negro', 'Negro', 'Rojo', 'Rojo', 'Rojo', 'Rojo', 'Negro', 'Rojo', 'Rojo', 'Negro', 'Negro', 'Negro', 'Negro', 'Verde', 'Rojo', 'Negro', 'Rojo', 'Rojo', 'Negro', 'Negro', 'Rojo', 'Rojo', 'Negro', 'Negro', 'Rojo', 'Verde', 'Rojo', 'Negro', 'Rojo', 'Rojo', 'Rojo', 'Negro', 'Negro', 'Rojo', 'Negro', 'Negro', 'Rojo', 'Rojo', 'Negro', 'Negro', 'Rojo', 'Rojo', 'Rojo', 'Negro', 'Rojo', 'Rojo', 'Negro', 'Rojo', 'Rojo', 'Negro', 'Negro', 'Negro', 'Negro', 'Negro', 'Negro', 'Negro', 'Rojo', 'Negro', 'Rojo', 'Negro', 'Rojo', 'Negro', 'Rojo', 'Negro', 'Negro', 'Negro', 'Rojo', 'Rojo', 'Rojo', 'Rojo', 'Negro', 'Rojo', 'Negro', 'Negro', 'Rojo', 'Rojo', 'Rojo', 'Verde', 'Rojo', 'Negro', 'Rojo', 'Negro', 'Negro', 'Negro', 'Negro', 'Rojo', 'Verde', 'Rojo', 'Rojo', 'Rojo', 'Rojo', 'Rojo', 'Negro', 'Verde', 'Negro', 'Negro', 'Verde', 'Rojo', 'Negro', 'Negro', 'Negro', 'Negro', 'Rojo', 'Rojo', 'Negro', 'Negro', 'Negro', 'Negro', 'Rojo', 'Verde', 'Negro', 'Negro', 'Negro', 'Negro', 'Rojo', 'Rojo', 'Rojo', 'Negro', 'Negro', 'Rojo', 'Negro', 'Negro', 'Negro', 'Negro', 'Rojo', 'Negro', 'Rojo', 'Negro', 'Negro', 'Verde', 'Negro', 'Rojo', 'Negro', 'Rojo', 'Rojo', 'Rojo', 'Negro', 'Rojo', 'Negro', 'Rojo', 'Negro', 'Negro', 'Rojo', 'Negro', 'Negro', 'Negro', 'Rojo', 'Negro', 'Negro', 'Rojo', 'Negro', 'Rojo', 'Rojo', 'Rojo', 'Negro', 'Rojo', 'Rojo', 'Rojo', 'Negro', 'Negro', 'Negro', 'Negro', 'Rojo', 'Rojo', 'Negro', 'Rojo', 'Negro', 'Negro', 'Rojo', 'Rojo', 'Rojo', 'Negro', 'Rojo', 'Rojo', 'Rojo', 'Rojo', 'Rojo', 'Negro', 'Rojo', 'Negro', 'Negro', 'Rojo', 'Rojo', 'Negro', 'Rojo', 'Rojo', 'Rojo', 'Rojo', 'Negro', 'Rojo', 'Negro', 'Rojo', 'Negro', 'Rojo', 'Rojo', 'Rojo', 'Rojo', 'Rojo', 'Rojo', 'Rojo', 'Rojo', 'Negro', 'Negro', 'Negro', 'Negro', 'Rojo', 'Rojo', 'Rojo', 'Negro', 'Rojo', 'Rojo', 'Negro', 'Rojo', 'Rojo', 'Rojo', 'Rojo', 'Rojo', 'Rojo', 'Negro', 'Rojo', 'Negro', 'Rojo', 'Rojo', 'Negro', 'Rojo', 'Rojo', 'Rojo', 'Negro', 'Rojo', 'Rojo', 'Verde', 'Rojo', 'Negro', 'Negro', 'Negro', 'Rojo', 'Negro', 'Negro', 'Rojo', 'Rojo', 'Negro', 'Negro', 'Negro', 'Negro', 'Negro', 'Rojo', 'Negro', 'Negro', 'Negro', 'Negro', 'Rojo', 'Rojo', 'Rojo', 'Negro', 'Negro', 'Negro', 'Rojo', 'Negro', 'Rojo', 'Rojo', 'Rojo', 'Rojo', 'Negro', 'Rojo', 'Negro', 'Rojo', 'Negro', 'Negro', 'Negro', 'Rojo', 'Rojo', 'Rojo', 'Rojo', 'Rojo', 'Rojo', 'Rojo', 'Negro', 'Negro', 'Rojo', 'Negro', 'Rojo', 'Negro', 'Negro', 'Rojo', 'Rojo', 'Rojo', 'Negro', 'Rojo', 'Negro', 'Negro', 'Rojo', 'Negro', 'Negro', 'Rojo', 'Rojo', 'Rojo', 'Rojo', 'Negro', 'Rojo', 'Rojo', 'Negro', 'Negro', 'Negro', 'Rojo', 'Rojo', 'Rojo', 'Rojo', 'Rojo', 'Rojo', 'Rojo', 'Rojo', 'Rojo', 'Rojo', 'Rojo', 'Rojo', 'Negro', 'Negro', 'Negro', 'Verde', 'Negro', 'Rojo', 'Verde', 'Rojo', 'Negro', 'Negro', 'Negro', 'Negro', 'Rojo', 'Negro', 'Negro', 'Rojo', 'Rojo', 'Negro', 'Rojo', 'Negro', 'Rojo', 'Negro', 'Rojo', 'Negro', 'Negro', 'Rojo', 'Rojo', 'Negro', 'Rojo', 'Rojo', 'Negro', 'Verde', 'Negro', 'Rojo', 'Negro', 'Rojo', 'Negro', 'Negro', 'Rojo', 'Negro', 'Rojo', 'Negro', 'Rojo', 'Negro', 'Negro', 'Verde', 'Negro', 'Negro', 'Negro', 'Rojo', 'Negro', 'Rojo', 'Negro', 'Negro', 'Negro', 'Rojo', 'Rojo', 'Rojo', 'Negro', 'Rojo', 'Rojo', 'Verde', 'Negro', 'Rojo', 'Negro', 'Rojo', 'Negro', 'Rojo', 'Negro', 'Rojo', 'Negro', 'Negro', 'Negro', 'Negro', 'Negro']\n",
      "El Casino Perdio -32\n"
     ]
    }
   ],
   "source": [
    "# Debemos simular 1000 partidas, y luego calcular cuanto gano o perdio el casino. \n",
    "\n",
    "total = 0\n",
    "results = [] # creamos una lista vacia\n",
    "for i in range(1000): # hago 1000 intentos\n",
    "    tirada = random.choice(ruleta) # el resultado puede cualquier elemento que este en la lista ruleta.\n",
    "    results.append(tirada) #vamos agregando a la lista de resultados lo que salio en cada tirada\n",
    "    if tirada == \"Rojo\":\n",
    "        total = total + 1\n",
    "    else:\n",
    "        total = total - 1\n",
    "\n",
    "if total > 0:\n",
    "    x = \"El Casino Gano\"\n",
    "else:\n",
    "    x = \"El Casino Perdio\"\n",
    "\n",
    "print(results)\n",
    "print (x, total)"
   ]
  }
 ],
 "metadata": {
  "kernelspec": {
   "display_name": ".venv",
   "language": "python",
   "name": "python3"
  },
  "language_info": {
   "codemirror_mode": {
    "name": "ipython",
    "version": 3
   },
   "file_extension": ".py",
   "mimetype": "text/x-python",
   "name": "python",
   "nbconvert_exporter": "python",
   "pygments_lexer": "ipython3",
   "version": "3.12.1"
  }
 },
 "nbformat": 4,
 "nbformat_minor": 2
}
