{
 "cells": [
  {
   "cell_type": "markdown",
   "metadata": {},
   "source": [
    "### Comienza clase 10: 1/11/2025"
   ]
  },
  {
   "cell_type": "code",
   "execution_count": 46,
   "metadata": {},
   "outputs": [],
   "source": [
    "# Traigo las librerias que necesito\n",
    "import numpy as np\n",
    "import matplotlib.pyplot as plt\n",
    "import pandas as pd\n",
    "import random"
   ]
  },
  {
   "cell_type": "code",
   "execution_count": 47,
   "metadata": {},
   "outputs": [
    {
     "name": "stdout",
     "output_type": "stream",
     "text": [
      "['Rojo', 'Rojo', 'Rojo', 'Rojo', 'Rojo', 'Rojo', 'Rojo', 'Rojo', 'Rojo', 'Rojo', 'Rojo', 'Rojo', 'Rojo', 'Rojo', 'Rojo', 'Rojo', 'Rojo', 'Rojo', 'Negro', 'Negro', 'Negro', 'Negro', 'Negro', 'Negro', 'Negro', 'Negro', 'Negro', 'Negro', 'Negro', 'Negro', 'Negro', 'Negro', 'Negro', 'Negro', 'Negro', 'Negro', 'Verde', 'Verde']\n"
     ]
    }
   ],
   "source": [
    "# Ejemplo para ver como funciona una RANDOM VARIABLE:\n",
    "# Hay una ruleta en un casino. La ruleta tiene 18 espacios rojos, 18 espacios negros, y 2 espacios verdes.\n",
    "# al girar la ruleta, si sale rojo, el apostador gana $ 1 USD. Caso contrario (sale negro o verde), el apostador pierde $ 1 USD.\n",
    "# Desde la vista del casino, si sale rojo el casino pierde $ 1 USD. Caso contrario (sale negro o verde), el casino gana $ 1 USD.\n",
    "# Trabajaremos desde el punto de vista del CASINO.\n",
    "\n",
    "ruleta = list([\"Rojo\"]*18 + [\"Negro\"]*18 + [\"Verde\"]*2) # Esto es lo mismo que listar Rojo 18 Veces, Negro 18 Veces, y Verde 2 veces.\n",
    "print (ruleta)"
   ]
  },
  {
   "cell_type": "code",
   "execution_count": 48,
   "metadata": {},
   "outputs": [
    {
     "name": "stdout",
     "output_type": "stream",
     "text": [
      "['Negro', 'Negro', 'Negro', 'Rojo', 'Rojo', 'Negro', 'Negro', 'Negro', 'Rojo', 'Negro', 'Negro', 'Negro', 'Rojo', 'Negro', 'Negro', 'Rojo', 'Negro', 'Negro', 'Rojo', 'Rojo', 'Rojo', 'Rojo', 'Rojo', 'Negro', 'Rojo', 'Negro', 'Rojo', 'Rojo', 'Rojo', 'Negro', 'Negro', 'Rojo', 'Rojo', 'Negro', 'Negro', 'Verde', 'Rojo', 'Rojo', 'Negro', 'Negro', 'Verde', 'Rojo', 'Rojo', 'Negro', 'Negro', 'Negro', 'Rojo', 'Negro', 'Negro', 'Rojo', 'Negro', 'Negro', 'Negro', 'Verde', 'Rojo', 'Verde', 'Rojo', 'Rojo', 'Negro', 'Negro', 'Negro', 'Negro', 'Negro', 'Negro', 'Negro', 'Negro', 'Negro', 'Rojo', 'Negro', 'Verde', 'Negro', 'Negro', 'Rojo', 'Rojo', 'Negro', 'Rojo', 'Verde', 'Negro', 'Negro', 'Rojo', 'Negro', 'Rojo', 'Rojo', 'Negro', 'Negro', 'Negro', 'Rojo', 'Rojo', 'Negro', 'Negro', 'Negro', 'Negro', 'Rojo', 'Rojo', 'Rojo', 'Negro', 'Negro', 'Rojo', 'Rojo', 'Negro', 'Negro', 'Rojo', 'Negro', 'Rojo', 'Verde', 'Rojo', 'Rojo', 'Negro', 'Negro', 'Rojo', 'Negro', 'Rojo', 'Verde', 'Negro', 'Negro', 'Rojo', 'Rojo', 'Negro', 'Rojo', 'Negro', 'Rojo', 'Rojo', 'Rojo', 'Negro', 'Rojo', 'Negro', 'Verde', 'Negro', 'Rojo', 'Negro', 'Negro', 'Rojo', 'Negro', 'Negro', 'Rojo', 'Negro', 'Rojo', 'Rojo', 'Negro', 'Negro', 'Negro', 'Negro', 'Rojo', 'Rojo', 'Verde', 'Negro', 'Rojo', 'Rojo', 'Rojo', 'Negro', 'Rojo', 'Negro', 'Negro', 'Rojo', 'Negro', 'Verde', 'Negro', 'Rojo', 'Negro', 'Rojo', 'Rojo', 'Negro', 'Verde', 'Rojo', 'Rojo', 'Rojo', 'Negro', 'Negro', 'Rojo', 'Negro', 'Verde', 'Rojo', 'Rojo', 'Rojo', 'Rojo', 'Rojo', 'Rojo', 'Negro', 'Negro', 'Rojo', 'Negro', 'Negro', 'Rojo', 'Rojo', 'Rojo', 'Rojo', 'Rojo', 'Negro', 'Negro', 'Rojo', 'Negro', 'Verde', 'Verde', 'Rojo', 'Verde', 'Rojo', 'Rojo', 'Negro', 'Negro', 'Rojo', 'Negro', 'Rojo', 'Negro', 'Rojo', 'Verde', 'Negro', 'Negro', 'Rojo', 'Verde', 'Negro', 'Negro', 'Rojo', 'Negro', 'Rojo', 'Negro', 'Negro', 'Negro', 'Rojo', 'Negro', 'Rojo', 'Negro', 'Rojo', 'Negro', 'Negro', 'Rojo', 'Rojo', 'Rojo', 'Rojo', 'Negro', 'Negro', 'Negro', 'Negro', 'Rojo', 'Negro', 'Rojo', 'Negro', 'Negro', 'Negro', 'Rojo', 'Verde', 'Rojo', 'Negro', 'Rojo', 'Rojo', 'Negro', 'Rojo', 'Negro', 'Negro', 'Negro', 'Negro', 'Negro', 'Rojo', 'Negro', 'Rojo', 'Rojo', 'Negro', 'Verde', 'Rojo', 'Negro', 'Negro', 'Verde', 'Rojo', 'Rojo', 'Negro', 'Negro', 'Rojo', 'Negro', 'Rojo', 'Rojo', 'Rojo', 'Rojo', 'Rojo', 'Negro', 'Rojo', 'Verde', 'Negro', 'Rojo', 'Negro', 'Negro', 'Rojo', 'Rojo', 'Rojo', 'Rojo', 'Rojo', 'Negro', 'Negro', 'Negro', 'Rojo', 'Rojo', 'Rojo', 'Negro', 'Rojo', 'Negro', 'Rojo', 'Negro', 'Negro', 'Negro', 'Negro', 'Rojo', 'Rojo', 'Rojo', 'Negro', 'Negro', 'Negro', 'Rojo', 'Rojo', 'Negro', 'Rojo', 'Negro', 'Rojo', 'Rojo', 'Rojo', 'Rojo', 'Negro', 'Negro', 'Negro', 'Rojo', 'Negro', 'Negro', 'Negro', 'Rojo', 'Rojo', 'Negro', 'Negro', 'Rojo', 'Verde', 'Rojo', 'Negro', 'Negro', 'Negro', 'Negro', 'Rojo', 'Rojo', 'Rojo', 'Rojo', 'Rojo', 'Negro', 'Negro', 'Negro', 'Rojo', 'Negro', 'Rojo', 'Negro', 'Negro', 'Verde', 'Negro', 'Rojo', 'Rojo', 'Negro', 'Negro', 'Negro', 'Rojo', 'Rojo', 'Rojo', 'Negro', 'Negro', 'Negro', 'Rojo', 'Rojo', 'Rojo', 'Rojo', 'Rojo', 'Rojo', 'Negro', 'Negro', 'Rojo', 'Negro', 'Negro', 'Negro', 'Rojo', 'Negro', 'Negro', 'Rojo', 'Negro', 'Rojo', 'Rojo', 'Rojo', 'Negro', 'Rojo', 'Negro', 'Negro', 'Negro', 'Verde', 'Rojo', 'Negro', 'Negro', 'Negro', 'Verde', 'Rojo', 'Rojo', 'Rojo', 'Rojo', 'Negro', 'Rojo', 'Rojo', 'Rojo', 'Rojo', 'Rojo', 'Negro', 'Rojo', 'Negro', 'Negro', 'Negro', 'Negro', 'Negro', 'Negro', 'Negro', 'Rojo', 'Negro', 'Rojo', 'Verde', 'Rojo', 'Negro', 'Rojo', 'Negro', 'Negro', 'Rojo', 'Negro', 'Rojo', 'Verde', 'Rojo', 'Negro', 'Negro', 'Rojo', 'Verde', 'Negro', 'Rojo', 'Negro', 'Negro', 'Rojo', 'Negro', 'Negro', 'Negro', 'Verde', 'Rojo', 'Negro', 'Negro', 'Negro', 'Negro', 'Rojo', 'Rojo', 'Rojo', 'Negro', 'Rojo', 'Rojo', 'Rojo', 'Verde', 'Negro', 'Negro', 'Negro', 'Rojo', 'Rojo', 'Negro', 'Negro', 'Rojo', 'Negro', 'Rojo', 'Negro', 'Negro', 'Rojo', 'Negro', 'Rojo', 'Negro', 'Rojo', 'Rojo', 'Rojo', 'Negro', 'Negro', 'Negro', 'Negro', 'Negro', 'Rojo', 'Negro', 'Rojo', 'Negro', 'Rojo', 'Negro', 'Rojo', 'Verde', 'Rojo', 'Rojo', 'Negro', 'Negro', 'Rojo', 'Negro', 'Negro', 'Rojo', 'Verde', 'Rojo', 'Negro', 'Rojo', 'Verde', 'Rojo', 'Verde', 'Rojo', 'Rojo', 'Negro', 'Negro', 'Verde', 'Verde', 'Rojo', 'Negro', 'Rojo', 'Verde', 'Verde', 'Rojo', 'Verde', 'Negro', 'Negro', 'Negro', 'Negro', 'Negro', 'Negro', 'Rojo', 'Negro', 'Rojo', 'Rojo', 'Negro', 'Rojo', 'Rojo', 'Rojo', 'Rojo', 'Rojo', 'Negro', 'Rojo', 'Rojo', 'Rojo', 'Negro', 'Rojo', 'Rojo', 'Negro', 'Rojo', 'Negro', 'Negro', 'Negro', 'Rojo', 'Rojo', 'Rojo', 'Negro', 'Rojo', 'Rojo', 'Negro', 'Negro', 'Negro', 'Negro', 'Negro', 'Rojo', 'Rojo', 'Negro', 'Rojo', 'Negro', 'Rojo', 'Negro', 'Negro', 'Negro', 'Negro', 'Rojo', 'Rojo', 'Negro', 'Rojo', 'Negro', 'Rojo', 'Rojo', 'Rojo', 'Rojo', 'Rojo', 'Rojo', 'Negro', 'Verde', 'Rojo', 'Negro', 'Rojo', 'Rojo', 'Rojo', 'Negro', 'Rojo', 'Rojo', 'Negro', 'Rojo', 'Negro', 'Rojo', 'Negro', 'Verde', 'Negro', 'Negro', 'Rojo', 'Rojo', 'Rojo', 'Verde', 'Negro', 'Negro', 'Negro', 'Rojo', 'Verde', 'Negro', 'Rojo', 'Rojo', 'Negro', 'Negro', 'Negro', 'Rojo', 'Rojo', 'Negro', 'Rojo', 'Rojo', 'Rojo', 'Negro', 'Rojo', 'Negro', 'Rojo', 'Rojo', 'Rojo', 'Negro', 'Verde', 'Negro', 'Rojo', 'Negro', 'Negro', 'Negro', 'Rojo', 'Verde', 'Negro', 'Negro', 'Rojo', 'Rojo', 'Negro', 'Negro', 'Negro', 'Verde', 'Negro', 'Rojo', 'Negro', 'Verde', 'Negro', 'Negro', 'Negro', 'Negro', 'Rojo', 'Rojo', 'Rojo', 'Rojo', 'Rojo', 'Negro', 'Verde', 'Negro', 'Verde', 'Negro', 'Rojo', 'Rojo', 'Rojo', 'Negro', 'Negro', 'Rojo', 'Rojo', 'Verde', 'Rojo', 'Rojo', 'Rojo', 'Negro', 'Rojo', 'Negro', 'Rojo', 'Rojo', 'Negro', 'Rojo', 'Rojo', 'Rojo', 'Rojo', 'Rojo', 'Rojo', 'Rojo', 'Rojo', 'Negro', 'Rojo', 'Rojo', 'Rojo', 'Negro', 'Negro', 'Negro', 'Rojo', 'Rojo', 'Verde', 'Negro', 'Rojo', 'Negro', 'Negro', 'Negro', 'Negro', 'Negro', 'Rojo', 'Verde', 'Rojo', 'Rojo', 'Negro', 'Rojo', 'Negro', 'Negro', 'Negro', 'Rojo', 'Rojo', 'Rojo', 'Rojo', 'Rojo', 'Rojo', 'Negro', 'Negro', 'Negro', 'Rojo', 'Negro', 'Negro', 'Negro', 'Rojo', 'Negro', 'Rojo', 'Rojo', 'Rojo', 'Rojo', 'Negro', 'Rojo', 'Rojo', 'Rojo', 'Negro', 'Rojo', 'Rojo', 'Verde', 'Negro', 'Negro', 'Rojo', 'Negro', 'Negro', 'Rojo', 'Negro', 'Rojo', 'Rojo', 'Verde', 'Rojo', 'Negro', 'Negro', 'Negro', 'Negro', 'Verde', 'Verde', 'Negro', 'Negro', 'Negro', 'Rojo', 'Rojo', 'Verde', 'Rojo', 'Rojo', 'Rojo', 'Rojo', 'Rojo', 'Rojo', 'Negro', 'Rojo', 'Negro', 'Rojo', 'Negro', 'Negro', 'Rojo', 'Rojo', 'Negro', 'Negro', 'Negro', 'Rojo', 'Negro', 'Negro', 'Negro', 'Negro', 'Negro', 'Rojo', 'Rojo', 'Negro', 'Negro', 'Negro', 'Rojo', 'Negro', 'Negro', 'Negro', 'Rojo', 'Negro', 'Negro', 'Negro', 'Negro', 'Negro', 'Verde', 'Negro', 'Rojo', 'Rojo', 'Negro', 'Rojo', 'Rojo', 'Negro', 'Rojo', 'Rojo', 'Rojo', 'Negro', 'Negro', 'Rojo', 'Rojo', 'Rojo', 'Verde', 'Negro', 'Rojo', 'Negro', 'Negro', 'Negro', 'Rojo', 'Rojo', 'Rojo', 'Negro', 'Rojo', 'Negro', 'Rojo', 'Rojo', 'Rojo', 'Rojo', 'Negro', 'Negro', 'Negro', 'Negro', 'Rojo', 'Negro', 'Negro', 'Negro', 'Negro', 'Negro', 'Rojo', 'Rojo', 'Negro', 'Negro', 'Negro', 'Negro', 'Negro', 'Negro', 'Negro', 'Negro', 'Negro', 'Negro', 'Rojo', 'Rojo', 'Rojo', 'Negro', 'Negro', 'Rojo', 'Negro', 'Rojo', 'Negro', 'Rojo', 'Negro', 'Rojo', 'Negro', 'Rojo', 'Negro', 'Negro', 'Rojo', 'Verde', 'Rojo', 'Negro', 'Rojo', 'Rojo', 'Negro', 'Rojo', 'Rojo', 'Rojo', 'Negro', 'Rojo', 'Rojo', 'Rojo', 'Rojo', 'Negro', 'Negro', 'Negro', 'Negro', 'Rojo', 'Negro', 'Rojo', 'Negro', 'Rojo', 'Rojo', 'Rojo', 'Rojo', 'Rojo', 'Verde', 'Rojo', 'Negro', 'Rojo', 'Rojo', 'Rojo', 'Rojo', 'Negro', 'Rojo', 'Negro', 'Negro', 'Rojo', 'Rojo', 'Rojo', 'Verde', 'Negro', 'Rojo', 'Rojo', 'Rojo', 'Negro', 'Rojo', 'Rojo', 'Rojo', 'Rojo', 'Rojo', 'Rojo', 'Rojo', 'Negro', 'Rojo', 'Negro', 'Negro', 'Negro', 'Negro', 'Rojo', 'Negro', 'Rojo', 'Rojo', 'Negro', 'Rojo', 'Negro', 'Rojo', 'Rojo', 'Negro', 'Negro', 'Negro', 'Negro', 'Verde', 'Rojo', 'Negro', 'Rojo', 'Negro', 'Rojo', 'Verde', 'Negro', 'Negro', 'Rojo', 'Rojo', 'Rojo', 'Rojo', 'Rojo', 'Rojo', 'Negro', 'Negro', 'Negro', 'Rojo', 'Verde', 'Rojo', 'Rojo', 'Negro', 'Negro', 'Rojo', 'Rojo', 'Negro', 'Negro', 'Negro', 'Negro', 'Rojo', 'Negro', 'Rojo', 'Negro', 'Negro', 'Negro', 'Negro', 'Rojo', 'Negro', 'Rojo', 'Rojo', 'Negro', 'Rojo', 'Negro', 'Rojo', 'Negro', 'Negro', 'Rojo', 'Negro', 'Verde', 'Rojo', 'Negro', 'Rojo', 'Rojo', 'Negro', 'Negro', 'Negro', 'Rojo', 'Rojo', 'Negro', 'Rojo', 'Negro', 'Negro', 'Negro', 'Rojo', 'Rojo', 'Rojo', 'Negro', 'Rojo', 'Rojo']\n",
      "El Casino Perdio -72\n"
     ]
    }
   ],
   "source": [
    "# Debemos simular 1000 partidas, y luego calcular cuanto gano o perdio el casino. \n",
    "\n",
    "total = 0\n",
    "results = [] # creamos una lista vacia\n",
    "for i in range(1000): # hago 1000 intentos\n",
    "    tirada = random.choice(ruleta) # el resultado puede cualquier elemento que este en la lista ruleta.\n",
    "    results.append(tirada) #vamos agregando a la lista de resultados lo que salio en cada tirada\n",
    "    if tirada == \"Rojo\":\n",
    "        total = total + 1\n",
    "    else:\n",
    "        total = total - 1\n",
    "\n",
    "if total > 0:\n",
    "    x = \"El Casino Gano\"\n",
    "else:\n",
    "    x = \"El Casino Perdio\"\n",
    "\n",
    "print(results)\n",
    "print (x, total)"
   ]
  },
  {
   "cell_type": "markdown",
   "metadata": {},
   "source": [
    "### Comienza clase 11: 1/13/2025"
   ]
  },
  {
   "cell_type": "markdown",
   "metadata": {},
   "source": [
    "![alt text](image-1.png)\n",
    "\n",
    "\n",
    "\n",
    "\n",
    "Probabilidad de la variable aleatoria X = P(X)\n",
    "Como es aleatorio, (cada compañero obtendra un numero aleatorio, que puedo o no ser igual al mio)\n",
    "Las Variables aleatorias las nombramos en mayuscula.\n",
    "\n",
    "La pregunta del millon es, cual es el valor que deberia esperar que salga, por ejemplo teniendo en cuenta cual es el valor que sale con mayor frecuencia?\n",
    "\n",
    "Para esto nos sirve hacer un modelo de muestreo, que repite muchisimas veces el evento \"a\", y se fija el valor que mas frecuencia tiene. De esta forma calculamos las frecuencias de cada valor.\n",
    "Cuando hay algo que se repite muchas veces hacemos una funcion.eso es lo que crearemos para generar este modelo de muestreo."
   ]
  },
  {
   "cell_type": "code",
   "execution_count": 49,
   "metadata": {},
   "outputs": [],
   "source": [
    "# Hacemos una funcion con dos argumentos\n",
    "\n",
    "def roullete_spin(spins=1000, roullete=ruleta):\n",
    "    earnings = 0\n",
    "    for _ in range(spins): # Esta sentencia quiere decir \"Ejecute algo 1000 veces\". El underline \"_\" sirve como place holder. Esta diciendo que va a tomar algo de la ruleta.\n",
    "        result = random.choice(roullete)\n",
    "        if result == \"Rojo\": \n",
    "            earnings -= 1\n",
    "        else:\n",
    "            earnings += 1\n",
    "    return earnings"
   ]
  },
  {
   "cell_type": "code",
   "execution_count": 50,
   "metadata": {},
   "outputs": [
    {
     "data": {
      "text/plain": [
       "48"
      ]
     },
     "execution_count": 50,
     "metadata": {},
     "output_type": "execute_result"
    }
   ],
   "source": [
    "roullete_spin()"
   ]
  },
  {
   "cell_type": "code",
   "execution_count": 51,
   "metadata": {},
   "outputs": [],
   "source": [
    "# SAMPLING MODEL (Vamos a crear nuestro modelo de muestreo)\n",
    "samplings = []\n",
    "for _ in range (10000):\n",
    "    samplings.append(roullete_spin()) # lista donde se almacenan los resultados\n",
    "\n"
   ]
  },
  {
   "cell_type": "code",
   "execution_count": 52,
   "metadata": {},
   "outputs": [
    {
     "data": {
      "image/png": "[encoded data removed]",
      "text/plain": [
       "<Figure size 640x480 with 1 Axes>"
      ]
     },
     "metadata": {},
     "output_type": "display_data"
    }
   ],
   "source": [
    "# Plot Frecuencies Histograms\n",
    "plt.hist(samplings, bins=20)\n",
    "plt.grid(True)\n",
    "plt.show()"
   ]
  },
  {
   "cell_type": "code",
   "execution_count": 53,
   "metadata": {},
   "outputs": [],
   "source": [
    "# Si incrementamos el range, vamos a darnos cuenta que el histograma no cambia demasiado.\n",
    "# Al probar con 1000000, demoro mucho. Asi que paramos el proceso con el stop cuadrado de la izquierda. Y probamos con 100.000\n",
    "# Vemos que la ganancia esperada sigue siendo 50"
   ]
  },
  {
   "cell_type": "markdown",
   "metadata": {},
   "source": [
    "#### Vamos a la pizarra a ver VALOR ESPERADO\n",
    "\n",
    "\n",
    "![alt text](image-3.png)\n",
    "\n",
    "Hay solo dos resultados posibles en este juego. \n",
    "La casa Gana (Win), sacando negro o verde,  o \n",
    "la casa Pierde (Lose), sacando rojo\n",
    "\n",
    "Entonces se cumple que P(W)+P(L) = 1 (*)\n",
    "\n",
    "Probabilidad de Sacar Negro = 18/38\n",
    "Probabilidad de Sacar Verde = 2/38\n",
    "Probabilidad de Ganar = P(W) = 20/38 = 10/19\n",
    "\n",
    "Probabilidad de Perder = P(L), \n",
    "    Lo calculamos usando esta propiedad(*)\n",
    "        P(L) = 1 - P(W) = 1 - 10/19 = 9/19\n",
    "\n",
    "    otra forma de calcularlo, es por el complemento. Es decir, calculando la probabilidad de Perder, (sacar rojo):\n",
    "        P(L) = 18/38 = 9/19\n",
    "\n",
    "La esperanza de mi variable aleatoria X, que representa a mi total de ganancia despues de 1000 tiradas, \n",
    "\n",
    "E[X] = 1000 * (10/19 - 9/19) = 1000 * 1/19 = 1000 * 0.0526 = 52.6\n",
    "\n",
    "Entonces, la esperanza de ganar luego de 1000 tiradas es de 52.6\n",
    "\n",
    "En el ejemplo de los tigres y las aguilas. E(x) Se lee como la esperanza de que en ese evento (es decir, en ese partido) ganen los tigres y los aguilas respectivamente. \n",
    "Y como tengo $1000, deberia apostar 1000 * E(X)\n"
   ]
  },
  {
   "cell_type": "markdown",
   "metadata": {},
   "source": [
    "#### Vamos a la pizarra a ver los CLT = TEOREMA DEL LIMITE CENTRAL\n",
    "![alt text](image-4.png)\n",
    "\n",
    "CLT tell us that when the bnumber of draws (repeats) is large, the probability of sum of independet draws is approximately nomral.\n",
    "\n",
    "Esto nos dice que, si el numero de repeticiones es grande, la probabilidad de la suma de las extraccciones independientes, es aproximadamente normal.\n",
    "\n",
    "Escuchar esta parte, porque no entendi bien la explicacion, pero decia basicamente cuando funciona y cuando no el CLT.\n"
   ]
  },
  {
   "cell_type": "markdown",
   "metadata": {},
   "source": [
    "#### Vamos a la pizarra a ver el STANDARD ERROR.\n",
    "\n",
    "Escuchar esta parte, porque no entendi bien la explicacion.\n",
    "Basicamente decia que el error standard, nos da la medida de dispercion de una distribucion particular, (Que no entendi cual era)\n",
    "\n",
    "![](image-5.png)\n",
    "![alt text](image-6.png)\n"
   ]
  },
  {
   "cell_type": "code",
   "execution_count": 54,
   "metadata": {},
   "outputs": [
    {
     "data": {
      "text/plain": [
       "np.float64(31.397635089923572)"
      ]
     },
     "execution_count": 54,
     "metadata": {},
     "output_type": "execute_result"
    }
   ],
   "source": [
    "# Standard error\n",
    "std = np.std(samplings)\n",
    "std"
   ]
  },
  {
   "cell_type": "code",
   "execution_count": 55,
   "metadata": {},
   "outputs": [
    {
     "data": {
      "text/plain": [
       "10000"
      ]
     },
     "execution_count": 55,
     "metadata": {},
     "output_type": "execute_result"
    }
   ],
   "source": [
    "n = len(samplings)\n",
    "n\n"
   ]
  },
  {
   "cell_type": "code",
   "execution_count": 56,
   "metadata": {},
   "outputs": [
    {
     "data": {
      "text/plain": [
       "np.float64(0.3139763508992357)"
      ]
     },
     "execution_count": 56,
     "metadata": {},
     "output_type": "execute_result"
    }
   ],
   "source": [
    "# Standard error formula\n",
    "std/np.sqrt(n) #sqrt = raiz cuadrada"
   ]
  }
 ],
 "metadata": {
  "kernelspec": {
   "display_name": ".venv",
   "language": "python",
   "name": "python3"
  },
  "language_info": {
   "codemirror_mode": {
    "name": "ipython",
    "version": 3
   },
   "file_extension": ".py",
   "mimetype": "text/x-python",
   "name": "python",
   "nbconvert_exporter": "python",
   "pygments_lexer": "ipython3",
   "version": "3.12.1"
  }
 },
 "nbformat": 4,
 "nbformat_minor": 2
}
