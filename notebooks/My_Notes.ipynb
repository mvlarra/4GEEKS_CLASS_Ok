{
 "cells": [
  {
   "cell_type": "markdown",
   "metadata": {},
   "source": [
    "\n",
    "CLASE 8\n",
    "creamos rama nueva:\n",
    "git branch: 03_probability\n",
    "\n",
    "para ver lista de ramas:\n",
    "git branch\n",
    "\n",
    "para movernos a la rama que nececitemos:\n",
    "git checkout nombre de la rama\n",
    "\n",
    "creamos el notebook dentro de la carpeta notebook:\n",
    "touch notebooks/03_probability.ipynb\n",
    "\n",
    "a la derecha del notebook cambiamos del kernel a entorno venv.\n",
    "\n",
    "\n",
    "Si quiero integrar todos los cambios a main:\n",
    "git checkout main  (para ir a la rama principal)\n",
    "Git pull (para ver cambios pendientes)\n",
    "git fetch\n",
    "git branch\n",
    "\n"
   ]
  }
 ],
 "metadata": {
  "kernelspec": {
   "display_name": ".venv",
   "language": "python",
   "name": "python3"
  },
  "language_info": {
   "name": "python",
   "version": "3.12.1"
  }
 },
 "nbformat": 4,
 "nbformat_minor": 2
}
